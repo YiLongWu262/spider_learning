{
 "cells": [
  {
   "cell_type": "code",
   "execution_count": 2,
   "metadata": {},
   "outputs": [
    {
     "name": "stdout",
     "output_type": "stream",
     "text": [
      "200\n"
     ]
    }
   ],
   "source": [
    "import requests\n",
    "\n",
    "url = 'http://www.jinyongwang.com/data/renwu/'\n",
    "\n",
    "response = requests.get(url)\n",
    "print(response.status_code)"
   ]
  },
  {
   "cell_type": "code",
   "execution_count": 11,
   "metadata": {},
   "outputs": [],
   "source": [
    "from bs4 import BeautifulSoup\n",
    "\n",
    "soup = BeautifulSoup(response.text,\"lxml\")"
   ]
  },
  {
   "cell_type": "code",
   "execution_count": 12,
   "metadata": {},
   "outputs": [],
   "source": [
    "tmp = soup.find_all(class_=\"datapice\")"
   ]
  },
  {
   "cell_type": "code",
   "execution_count": 13,
   "metadata": {},
   "outputs": [
    {
     "name": "stdout",
     "output_type": "stream",
     "text": [
      "15\n"
     ]
    }
   ],
   "source": [
    "print(len(tmp))"
   ]
  },
  {
   "cell_type": "code",
   "execution_count": 15,
   "metadata": {},
   "outputs": [],
   "source": [
    "data = tmp[1]"
   ]
  },
  {
   "cell_type": "code",
   "execution_count": 16,
   "metadata": {},
   "outputs": [
    {
     "data": {
      "text/plain": [
       "<div class=\"datapice\">\n",
       "<a href=\"/data/1979.html\"><img alt=\"令狐冲\" src=\"/public/uploads/baike/2015-08-15/32281439606963_120.jpg\"/>令狐冲</a><a href=\"/data/2067.html\"><img alt=\"岳不群\" src=\"/public/uploads/baike/2015-08-15/19241439607487_120.jpg\"/>岳不群</a><a href=\"/data/1976.html\"><img alt=\"林平之\" src=\"/public/uploads/baike/2015-08-15/11901439606959_120.jpg\"/>林平之</a><a href=\"/data/2068.html\"><img alt=\"岳灵珊\" src=\"/public/uploads/baike/2015-08-15/30981439607488_120.jpg\"/>岳灵珊</a><a href=\"/data/2049.html\"><img alt=\"仪琳\" src=\"/public/uploads/baike/2015-08-15/60251439607407_120.jpg\"/>仪琳</a><a href=\"/data/2025.html\"><img alt=\"田伯光\" src=\"/public/uploads/baike/2015-08-15/83661439607228_120.jpg\"/>田伯光</a><a href=\"/data/2002.html\"><img alt=\"任我行\" src=\"/public/uploads/baike/2015-08-15/49741439607081_120.jpg\"/>任我行</a><a href=\"/data/2043.html\"><img alt=\"向问天\" src=\"/public/uploads/baike/2015-08-15/39381439607369_120.jpg\"/>向问天</a><a href=\"/data/2079.html\"><img alt=\"左冷禅\" src=\"/public/uploads/baike/2015-08-15/84551439631763_120.jpg\"/>左冷禅</a><a href=\"/data/2060.html\"><img alt=\"余沧海\" src=\"/public/uploads/baike/2015-08-15/59491439607476_120.jpg\"/>余沧海</a><a href=\"/data/1982.html\"><img alt=\"刘正风\" src=\"/public/uploads/baike/2015-08-15/41891439606967_120.jpg\"/>刘正风</a><a href=\"/data/1971.html\"><img alt=\"劳德诺\" src=\"/public/uploads/baike/2015-08-15/96301439606922_120.jpg\"/>劳德诺</a><a href=\"/data/1978.html\"><img alt=\"林震南\" src=\"/public/uploads/baike/2015-08-15/94821439631766_120.jpg\"/>林震南</a><a href=\"/data/2048.html\"><img alt=\"仪和\" src=\"/public/uploads/baike/2015-08-15/59721439631758_120.jpg\"/>仪和</a><a href=\"/data/2078.html\"><img alt=\"祖千秋\" src=\"/public/uploads/baike/2015-08-15/56501439631772_120.jpg\"/>祖千秋</a><a href=\"/data/1985.html\"><img alt=\"陆大有\" src=\"/public/uploads/baike/2015-08-15/3661439631777_120.jpg\"/>陆大有</a><a href=\"/data/2016.html\"><i class=\"icon\"></i>桃根仙</a><a href=\"/data/1991.html\"><img alt=\"木高峰\" src=\"/public/uploads/baike/2015-08-15/15551439631765_120.jpg\"/>木高峰</a><a href=\"/data/1990.html\"><img alt=\"莫大\" src=\"/public/uploads/baike/2015-08-15/39381439607036_120.jpg\"/>莫大</a><a href=\"/data/2020.html\"><i class=\"icon\"></i>桃枝仙</a><a href=\"/data/2017.html\"><i class=\"icon\"></i>桃花仙</a><a href=\"/data/2018.html\"><i class=\"icon\"></i>桃实仙</a><a href=\"/data/2015.html\"><i class=\"icon\"></i>桃干仙</a><a href=\"/data/2050.html\"><i class=\"icon\"></i>仪清</a><a href=\"/data/2006.html\"><img alt=\"上官云\" src=\"/public/uploads/baike/2015-08-15/41931439607087_120.jpg\"/>上官云</a><a href=\"/data/2047.html\"><img alt=\"杨莲亭\" src=\"/public/uploads/baike/2015-08-15/54751439607403_120.jpg\"/>杨莲亭</a><a href=\"/data/2000.html\"><img alt=\"曲非烟\" src=\"/public/uploads/baike/2015-08-15/45251439607049_120.jpg\"/>曲非烟</a><a href=\"/data/1995.html\"><img alt=\"平一指\" src=\"/public/uploads/baike/2015-08-15/82801439607044_120.jpg\"/>平一指</a><a href=\"/data/2027.html\"><img alt=\"秃笔翁\" src=\"/public/uploads/baike/2015-08-15/32041439631772_120.jpg\"/>秃笔翁</a><a href=\"/data/1970.html\"><img alt=\"蓝凤凰\" src=\"/public/uploads/baike/2015-08-15/29951439631774_120.jpg\"/>蓝凤凰</a><a href=\"/data/2019.html\"><i class=\"icon\"></i>桃叶仙</a><a href=\"/data/2022.html\"><img alt=\"天门道人\" src=\"/public/uploads/baike/2015-08-15/4051439631761_120.jpg\"/>天门道人</a><a href=\"/data/1904.html\"><img alt=\"不戒和尚\" src=\"/public/uploads/baike/2015-08-15/42591439606918_120.jpg\"/>不戒和尚</a><a href=\"/data/2074.html\"><i class=\"icon\"></i>郑萼</a><a href=\"/data/1987.html\"><img alt=\"绿竹翁\" src=\"/public/uploads/baike/2015-08-15/54461439607034_120.jpg\"/>绿竹翁</a><a href=\"/data/2075.html\"><i class=\"icon\"></i>钟镇</a><a href=\"/data/2057.html\"><i class=\"icon\"></i>游迅</a><a href=\"/data/2772.html\"><img alt=\"风清扬\" src=\"/public/uploads/2015-09-14/55f6c2cd9a5ce_120.jpg\"/>风清扬</a><a href=\"/data/2035.html\"><img alt=\"王元霸\" src=\"/public/uploads/baike/2015-08-15/82811439607300_120.jpg\"/>王元霸</a><a href=\"/data/2001.html\"><img alt=\"曲洋\" src=\"/public/uploads/baike/2015-08-15/58111439607080_120.jpg\"/>曲洋</a><a href=\"/data/1902.html\"><i class=\"icon\"></i>鲍大楚</a><a href=\"/data/2026.html\"><img alt=\"童百熊\" src=\"/public/uploads/baike/2015-08-15/39821439607229_120.jpg\"/>童百熊</a><a href=\"/data/2032.html\"><img alt=\"王夫人\" src=\"/public/uploads/baike/2015-08-15/38811439607237_120.jpg\"/>王夫人</a><a href=\"/data/2062.html\"><img alt=\"玉玑子\" src=\"/public/uploads/baike/2015-08-15/37291439607479_120.jpg\"/>玉玑子</a><a href=\"/data/2069.html\"><i class=\"icon\"></i>张夫人</a><a href=\"/data/1986.html\"><i class=\"icon\"></i>罗人杰</a><a href=\"/data/2065.html\"><i class=\"icon\"></i>玉音子</a><a href=\"/data/2059.html\"><i class=\"icon\"></i>于嫂</a><a href=\"/data/1974.html\"><i class=\"icon\"></i>乐厚</a><a href=\"/data/2058.html\"><img alt=\"于人豪\" src=\"/public/uploads/baike/2015-08-15/26431439607444_120.jpg\"/>于人豪</a><a href=\"/data/2063.html\"><i class=\"icon\"></i>玉灵道人</a><a href=\"/data/2008.html\"><i class=\"icon\"></i>施戴子</a><a href=\"/data/2010.html\"><i class=\"icon\"></i>史镖头</a><a href=\"/data/2073.html\"><i class=\"icon\"></i>郑镖头</a><a href=\"/data/2052.html\"><i class=\"icon\"></i>易师爷</a><a href=\"/data/2045.html\"><img alt=\"哑婆婆\" src=\"/public/uploads/baike/2015-08-15/61011439631761_120.jpg\"/>哑婆婆</a><a href=\"/data/1975.html\"><i class=\"icon\"></i>梁发</a><a href=\"/data/2034.html\"><i class=\"icon\"></i>王家骏</a><a href=\"/data/2046.html\"><i class=\"icon\"></i>严三星</a><a href=\"/data/2033.html\"><i class=\"icon\"></i>王家驹</a><a href=\"/data/1905.html\"><i class=\"icon\"></i>陈七</a><a href=\"/data/2064.html\"><i class=\"icon\"></i>玉磬子</a><a href=\"/data/2044.html\"><i class=\"icon\"></i>辛国梁</a><a href=\"/data/1977.html\"><img alt=\"林远图\" src=\"/public/uploads/baike/2015-08-15/84551439631766_120.jpg\"/>林远图</a><a href=\"/data/2011.html\"><i class=\"icon\"></i>史登达</a><a href=\"/data/2042.html\"><i class=\"icon\"></i>向大年</a><a href=\"/data/2036.html\"><i class=\"icon\"></i>王仲强</a><a href=\"/data/1900.html\"><i class=\"icon\"></i>白二</a><a href=\"/data/2009.html\"><i class=\"icon\"></i>施令威</a><a href=\"/data/2029.html\"><i class=\"icon\"></i>王伯奋</a><a href=\"/data/2051.html\"><i class=\"icon\"></i>易国梓</a><a href=\"/data/2013.html\"><i class=\"icon\"></i>司马大</a><a href=\"/data/2004.html\"><i class=\"icon\"></i>桑三娘</a><a href=\"/data/2040.html\"><i class=\"icon\"></i>西宝</a><a href=\"/data/2071.html\"><i class=\"icon\"></i>长青子</a><a href=\"/data/1983.html\"><i class=\"icon\"></i>鲁连荣</a><a href=\"/data/1901.html\"><i class=\"icon\"></i>白熊</a><a href=\"/data/2055.html\"><i class=\"icon\"></i>英颚</a><a href=\"/data/2037.html\"><i class=\"icon\"></i>闻先生</a><a href=\"/data/1989.html\"><i class=\"icon\"></i>米为义</a><a href=\"/data/1993.html\"><i class=\"icon\"></i>农妇</a><a href=\"/data/2023.html\"><img alt=\"天松道人\" src=\"/public/uploads/baike/2015-08-15/17681439631761_120.jpg\"/>天松道人</a><a href=\"/data/2024.html\"><i class=\"icon\"></i>天乙道人</a><a href=\"/data/2039.html\"><i class=\"icon\"></i>吴天德</a><a href=\"/data/1981.html\"><i class=\"icon\"></i>刘芹</a><a href=\"/data/1972.html\"><img alt=\"老不死\" src=\"/public/uploads/baike/2015-08-15/56801439606924_120.jpg\"/>老不死</a><a href=\"/data/2007.html\"><i class=\"icon\"></i>申人俊</a><a href=\"/data/2014.html\"><i class=\"icon\"></i>谭迪人</a><a href=\"/data/1903.html\"><img alt=\"卜沉\" src=\"/public/uploads/baike/2015-08-15/38661439606917_120.jpg\"/>卜沉</a><a href=\"/data/2061.html\"><img alt=\"余人彦\" src=\"/public/uploads/baike/2015-08-15/41451439607477_120.jpg\"/>余人彦</a><a href=\"/data/1988.html\"><i class=\"icon\"></i>麻衣汉子</a><a href=\"/data/2005.html\"><i class=\"icon\"></i>沙天江</a><a href=\"/data/2012.html\"><i class=\"icon\"></i>舒奇</a><a href=\"/data/1994.html\"><i class=\"icon\"></i>平夫人</a><a href=\"/data/2031.html\"><i class=\"icon\"></i>王二叔</a><a href=\"/data/2066.html\"><i class=\"icon\"></i>玉钟子</a><a href=\"/data/2054.html\"><i class=\"icon\"></i>英白罗</a><a href=\"/data/2030.html\"><i class=\"icon\"></i>王诚</a><a href=\"/data/2038.html\"><i class=\"icon\"></i>吴柏英</a><a href=\"/data/1992.html\"><img alt=\"宁中则\" src=\"/public/uploads/baike/2015-08-15/76321439607040_120.jpg\"/>宁中则</a><a href=\"/data/2072.html\"><i class=\"icon\"></i>震山子</a><a href=\"/data/2003.html\"><img alt=\"任盈盈\" src=\"/public/uploads/baike/2015-08-15/41821439607083_120.jpg\"/>任盈盈</a><a href=\"/data/2041.html\"><i class=\"icon\"></i>夏老拳师</a><a href=\"/data/2028.html\"><i class=\"icon\"></i>万大平</a><a href=\"/data/2021.html\"><i class=\"icon\"></i>陶钧</a><a href=\"/data/2076.html\"><i class=\"icon\"></i>周孤桐</a><a href=\"/data/2077.html\"><i class=\"icon\"></i>祝镖头</a><a href=\"/data/1996.html\"><i class=\"icon\"></i>齐堂主</a><a href=\"/data/1980.html\"><i class=\"icon\"></i>刘菁</a><a href=\"/data/2053.html\"><i class=\"icon\"></i>易堂主</a><a href=\"/data/1984.html\"><i class=\"icon\"></i>陆伯</a> </div>"
      ]
     },
     "execution_count": 16,
     "metadata": {},
     "output_type": "execute_result"
    }
   ],
   "source": [
    "data"
   ]
  },
  {
   "cell_type": "code",
   "execution_count": 17,
   "metadata": {},
   "outputs": [
    {
     "name": "stdout",
     "output_type": "stream",
     "text": [
      "<class 'bs4.element.Tag'>\n"
     ]
    }
   ],
   "source": [
    "print(type(data))"
   ]
  },
  {
   "cell_type": "code",
   "execution_count": 33,
   "metadata": {},
   "outputs": [
    {
     "name": "stdout",
     "output_type": "stream",
     "text": [
      "令狐冲\n",
      "岳不群\n",
      "林平之\n",
      "岳灵珊\n",
      "仪琳\n",
      "田伯光\n",
      "任我行\n",
      "向问天\n",
      "左冷禅\n",
      "余沧海\n",
      "刘正风\n",
      "劳德诺\n",
      "林震南\n",
      "仪和\n",
      "祖千秋\n",
      "陆大有\n",
      "桃根仙\n",
      "木高峰\n",
      "莫大\n",
      "桃枝仙\n",
      "桃花仙\n",
      "桃实仙\n",
      "桃干仙\n",
      "仪清\n",
      "上官云\n",
      "杨莲亭\n",
      "曲非烟\n",
      "平一指\n",
      "秃笔翁\n",
      "蓝凤凰\n",
      "桃叶仙\n",
      "天门道人\n",
      "不戒和尚\n",
      "郑萼\n",
      "绿竹翁\n",
      "钟镇\n",
      "游迅\n",
      "风清扬\n",
      "王元霸\n",
      "曲洋\n",
      "鲍大楚\n",
      "童百熊\n",
      "王夫人\n",
      "玉玑子\n",
      "张夫人\n",
      "罗人杰\n",
      "玉音子\n",
      "于嫂\n",
      "乐厚\n",
      "于人豪\n",
      "玉灵道人\n",
      "施戴子\n",
      "史镖头\n",
      "郑镖头\n",
      "易师爷\n",
      "哑婆婆\n",
      "梁发\n",
      "王家骏\n",
      "严三星\n",
      "王家驹\n",
      "陈七\n",
      "玉磬子\n",
      "辛国梁\n",
      "林远图\n",
      "史登达\n",
      "向大年\n",
      "王仲强\n",
      "白二\n",
      "施令威\n",
      "王伯奋\n",
      "易国梓\n",
      "司马大\n",
      "桑三娘\n",
      "西宝\n",
      "长青子\n",
      "鲁连荣\n",
      "白熊\n",
      "英颚\n",
      "闻先生\n",
      "米为义\n",
      "农妇\n",
      "天松道人\n",
      "天乙道人\n",
      "吴天德\n",
      "刘芹\n",
      "老不死\n",
      "申人俊\n",
      "谭迪人\n",
      "卜沉\n",
      "余人彦\n",
      "麻衣汉子\n",
      "沙天江\n",
      "舒奇\n",
      "平夫人\n",
      "王二叔\n",
      "玉钟子\n",
      "英白罗\n",
      "王诚\n",
      "吴柏英\n",
      "宁中则\n",
      "震山子\n",
      "任盈盈\n",
      "夏老拳师\n",
      "万大平\n",
      "陶钧\n",
      "周孤桐\n",
      "祝镖头\n",
      "齐堂主\n",
      "刘菁\n",
      "易堂主\n",
      "陆伯\n"
     ]
    }
   ],
   "source": [
    "characters = []\n",
    "for item in data.find_all('a'):\n",
    "    text = item.text\n",
    "    text = text.strip('')"
   ]
  },
  {
   "cell_type": "code",
   "execution_count": null,
   "metadata": {},
   "outputs": [],
   "source": []
  }
 ],
 "metadata": {
  "kernelspec": {
   "display_name": "Python 3",
   "language": "python",
   "name": "python3"
  },
  "language_info": {
   "codemirror_mode": {
    "name": "ipython",
    "version": 3
   },
   "file_extension": ".py",
   "mimetype": "text/x-python",
   "name": "python",
   "nbconvert_exporter": "python",
   "pygments_lexer": "ipython3",
   "version": "3.6.4"
  }
 },
 "nbformat": 4,
 "nbformat_minor": 2
}
