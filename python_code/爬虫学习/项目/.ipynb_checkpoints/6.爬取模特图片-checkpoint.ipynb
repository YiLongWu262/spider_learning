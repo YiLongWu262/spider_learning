{
 "cells": [
  {
   "cell_type": "code",
   "execution_count": 7,
   "metadata": {},
   "outputs": [
    {
     "name": "stdout",
     "output_type": "stream",
     "text": [
      "http://www.lesmao.me/thread-17001-1-1.html\n",
      "200\n"
     ]
    }
   ],
   "source": [
    "import requests\n",
    "\n",
    "BASE_URL = 'http://www.lesmao.me/thread-'\n",
    "number = 17001\n",
    "url = BASE_URL + str(number)+ '-1-1.html'\n",
    "print(url)\n",
    "\n",
    "headers = {\n",
    "    'User-Agent':'Mozilla/5.0 (Windows NT 6.1; WOW64) AppleWebKit/537.36 (KHTML, like Gecko) Chrome/55.0.2883.87 Safari/537.36'\n",
    "}\n",
    "try:\n",
    "    response = requests.get(url, headers = headers)\n",
    "    print(response.status_code)\n",
    "except:\n",
    "    print('Error')"
   ]
  },
  {
   "cell_type": "code",
   "execution_count": 54,
   "metadata": {},
   "outputs": [
    {
     "name": "stdout",
     "output_type": "stream",
     "text": [
      " YOUMI 尤蜜荟 Vol.068 Modo Yumi-尤美\n"
     ]
    }
   ],
   "source": [
    "from pyquery import PyQuery as pq\n",
    "\n",
    "\n",
    "doc = pq(response.text)\n",
    "\n",
    "name = doc('h1').text()\n",
    "print(name)"
   ]
  },
  {
   "cell_type": "code",
   "execution_count": 31,
   "metadata": {},
   "outputs": [
    {
     "name": "stdout",
     "output_type": "stream",
     "text": [
      "['http://p.tao1o.com/k/1178/T/YOUMI/068/068_001_3yj_3600_5400.jpg', 'http://p.tao1o.com/k/1178/T/YOUMI/068/068_002_89t_3600_5400.jpg', 'http://p.tao1o.com/k/1178/T/YOUMI/068/068_003_j2x_3600_5400.jpg', 'http://p.tao1o.com/k/1178/T/YOUMI/068/068_004_wym_3600_5400.jpg']\n"
     ]
    }
   ],
   "source": [
    "import re\n",
    "reg = r'<li><img alt=\".*?\" src=\"(.*?\\.jpg)\"'\n",
    "pattern = re.compile(reg)\n",
    "image_urls = re.findall(pattern, response.text)\n",
    "print(image_urls)"
   ]
  },
  {
   "cell_type": "code",
   "execution_count": 32,
   "metadata": {},
   "outputs": [
    {
     "name": "stdout",
     "output_type": "stream",
     "text": [
      "http://p.tao1o.com/k/1178/T/YOUMI/068/068_001_3yj_3600_5400.jpg\n",
      "http://p.tao1o.com/k/1178/T/YOUMI/068/068_002_89t_3600_5400.jpg\n",
      "http://p.tao1o.com/k/1178/T/YOUMI/068/068_003_j2x_3600_5400.jpg\n",
      "http://p.tao1o.com/k/1178/T/YOUMI/068/068_004_wym_3600_5400.jpg\n"
     ]
    }
   ],
   "source": [
    "for url in image_urls:\n",
    "    print(url)"
   ]
  },
  {
   "cell_type": "code",
   "execution_count": 37,
   "metadata": {},
   "outputs": [
    {
     "name": "stdout",
     "output_type": "stream",
     "text": [
      "068_001_3yj_3600_5400.jpg\n",
      "068_002_89t_3600_5400.jpg\n",
      "068_003_j2x_3600_5400.jpg\n",
      "068_004_wym_3600_5400.jpg\n"
     ]
    }
   ],
   "source": [
    "for url in image_urls:\n",
    "    name = url.split('/')[-1]\n",
    "    print(name)\n",
    "    image = requests.get(url)\n",
    "    with open(name,'wb') as f:\n",
    "        f.write(image.content)"
   ]
  },
  {
   "cell_type": "code",
   "execution_count": null,
   "metadata": {},
   "outputs": [],
   "source": [
    "import os\n",
    "os.path.exists()"
   ]
  },
  {
   "cell_type": "code",
   "execution_count": null,
   "metadata": {},
   "outputs": [],
   "source": [
    "import requests\n",
    "import re\n",
    "from pyquery import PyQuery as pq\n",
    "\n",
    "class LeiSi(object):\n",
    "    '''LeiSi'''\n",
    "    \n",
    "    def __init__(self):\n",
    "        self.BASE_ULR = 'http://www.lesmao.me/thread-'\n",
    "        self.headers = {\n",
    "            'User-Agent':'Mozilla/5.0 (Windows NT 6.1; WOW64) AppleWebKit/537.36 (KHTML, like Gecko) Chrome/55.0.2883.87 Safari/537.36'\n",
    "        }\n",
    "        \n",
    "        \n",
    "        \n",
    "    def get_page(self,number):\n",
    "        url = self.BASE_URL + str(number)+ '-1-1.html'\n",
    "        try:\n",
    "            response = requests.get(url, headers = headers)\n",
    "            print(response.status_code)\n",
    "        except:\n",
    "            print('Error')\n",
    "    \n",
    "    def parser(self,text):\n",
    "        doc = pq(text)\n",
    "        DirectoryName = doc('h1').text()\n",
    "        reg = r'<li><img alt=\".*?\" src=\"(.*?\\.jpg)\"'\n",
    "        pattern = re.compile(reg)\n",
    "        ImageUrls = re.findall(pattern, text)\n",
    "        "
   ]
  }
 ],
 "metadata": {
  "kernelspec": {
   "display_name": "Python 3",
   "language": "python",
   "name": "python3"
  },
  "language_info": {
   "codemirror_mode": {
    "name": "ipython",
    "version": 3
   },
   "file_extension": ".py",
   "mimetype": "text/x-python",
   "name": "python",
   "nbconvert_exporter": "python",
   "pygments_lexer": "ipython3",
   "version": "3.6.4"
  }
 },
 "nbformat": 4,
 "nbformat_minor": 2
}
