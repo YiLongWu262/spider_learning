{
 "cells": [
  {
   "cell_type": "markdown",
   "metadata": {},
   "source": [
    "官方https://pypi.org/project/pyquery/  \n",
    "pyquery allows you to make jquery queries on xml documents.   \n",
    "The API is as much as possible the similar to jquery.  \n",
    "pyquery uses lxml for fast xml and html manipulation"
   ]
  },
  {
   "cell_type": "markdown",
   "metadata": {},
   "source": [
    "1.三种方式使用pyquery\n",
    "1. 字符串初始化\n",
    "2. URL初始化\n",
    "3. 文件初始化  "
   ]
  },
  {
   "cell_type": "markdown",
   "metadata": {},
   "source": [
    "下面主要介绍一下字符串初始化的方法,我们看到返回的类型是**PyQuery**"
   ]
  },
  {
   "cell_type": "code",
   "execution_count": 4,
   "metadata": {},
   "outputs": [
    {
     "name": "stdout",
     "output_type": "stream",
     "text": [
      "<div>\n",
      "<ul>\n",
      "  <li>Coffee</li>\n",
      "  <li>Tea</li>\n",
      "  <li>Milk</li>\n",
      "</ul>\n",
      "</div>\n",
      "<class 'pyquery.pyquery.PyQuery'>\n"
     ]
    }
   ],
   "source": [
    "from pyquery import PyQuery as pq\n",
    "html = '''\n",
    "<div>\n",
    "<ul>\n",
    "  <li>Coffee</li>\n",
    "  <li>Tea</li>\n",
    "  <li>Milk</li>\n",
    "</ul>\n",
    "</div>\n",
    "'''\n",
    "doc = pq(html)\n",
    "print(doc)\n",
    "print(type(doc))\n"
   ]
  },
  {
   "cell_type": "markdown",
   "metadata": {},
   "source": [
    "#### 1.Attributes  \n",
    "[Using attribute to select specific tag In attribute selectors, the value should be a valid CSS identifier or quoted as string](http://pyquery.readthedocs.io/en/latest/attributes.html )"
   ]
  },
  {
   "cell_type": "code",
   "execution_count": 13,
   "metadata": {},
   "outputs": [
    {
     "name": "stdout",
     "output_type": "stream",
     "text": [
      "<option value=\"1\"/>\n",
      "<class 'pyquery.pyquery.PyQuery'>\n"
     ]
    }
   ],
   "source": [
    "from pyquery import PyQuery as pq\n",
    "doc = pq(\"<option value='1'><option value='2'>\")\n",
    "print(doc('option[value = \"1\"]'))\n",
    "print(type(doc('option[value = \"1\"]')))#the type is PyQuery"
   ]
  },
  {
   "cell_type": "markdown",
   "metadata": {},
   "source": [
    "You can play with the attributes with the jquery API:"
   ]
  },
  {
   "cell_type": "code",
   "execution_count": 15,
   "metadata": {},
   "outputs": [
    {
     "name": "stdout",
     "output_type": "stream",
     "text": [
      "hello\n",
      "plop\n",
      "hello\n"
     ]
    }
   ],
   "source": [
    "p = pq('<p id=\"hello\" class=\"hello\"></p>')('p')\n",
    "print(p.attr(\"id\"))\n",
    "p.attr(\"id\", \"plop\")\n",
    "print(p.attr('id')) #change the value of id\n",
    "p.attr(\"id\", \"hello\")\n",
    "print(p.attr('id'))"
   ]
  },
  {
   "cell_type": "markdown",
   "metadata": {},
   "source": [
    "Or in a more pythonic way:"
   ]
  },
  {
   "cell_type": "code",
   "execution_count": 20,
   "metadata": {},
   "outputs": [
    {
     "name": "stdout",
     "output_type": "stream",
     "text": [
      "change1\n",
      "change2\n",
      "change3 hello1\n"
     ]
    }
   ],
   "source": [
    "p.attr.id = \"change1\"\n",
    "print(p.attr.id)\n",
    "p.attr['id'] = \"change2\"\n",
    "print(p.attr.id)\n",
    "p.attr(id = \"change3\", class_ = \"hello1\")\n",
    "print(p.attr.id, p.attr.class_)"
   ]
  },
  {
   "cell_type": "markdown",
   "metadata": {},
   "source": [
    "#### 2.CSS  \n",
    "You can play with css classes:"
   ]
  },
  {
   "cell_type": "code",
   "execution_count": 22,
   "metadata": {},
   "outputs": [
    {
     "name": "stdout",
     "output_type": "stream",
     "text": [
      "<p id=\"change3\" class=\"hello1\"/>\n"
     ]
    }
   ],
   "source": [
    "p.addClass(\"toto\")\n",
    "p.toggleClass(\"titi toto\")\n",
    "p.removeClass(\"titi\")\n",
    "print(p)"
   ]
  }
 ],
 "metadata": {
  "kernelspec": {
   "display_name": "Python 3",
   "language": "python",
   "name": "python3"
  },
  "language_info": {
   "codemirror_mode": {
    "name": "ipython",
    "version": 3
   },
   "file_extension": ".py",
   "mimetype": "text/x-python",
   "name": "python",
   "nbconvert_exporter": "python",
   "pygments_lexer": "ipython3",
   "version": "3.6.4"
  }
 },
 "nbformat": 4,
 "nbformat_minor": 2
}
