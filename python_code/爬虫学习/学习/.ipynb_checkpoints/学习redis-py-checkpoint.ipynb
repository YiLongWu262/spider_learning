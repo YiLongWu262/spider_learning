{
 "cells": [
  {
   "cell_type": "markdown",
   "metadata": {},
   "source": [
    "## 介绍  \n",
    "The Python interface to the Redis key-value store  \n",
    "\n",
    "1. [文档](http://redis-py.readthedocs.io/en/latest/)  \n",
    "2. [官方文档](https://github.com/WoLpH/redis-py)"
   ]
  },
  {
   "cell_type": "markdown",
   "metadata": {},
   "source": [
    "#### 1.安装"
   ]
  },
  {
   "cell_type": "code",
   "execution_count": null,
   "metadata": {},
   "outputs": [],
   "source": [
    "pip3 install redis"
   ]
  },
  {
   "cell_type": "markdown",
   "metadata": {},
   "source": [
    "#### 2.查看是否安装成功"
   ]
  },
  {
   "cell_type": "code",
   "execution_count": 1,
   "metadata": {},
   "outputs": [
    {
     "name": "stdout",
     "output_type": "stream",
     "text": [
      "(2, 10, 6)\n"
     ]
    }
   ],
   "source": [
    "import redis\n",
    "print(redis.VERSION)"
   ]
  },
  {
   "cell_type": "markdown",
   "metadata": {},
   "source": [
    "#### 3.redis的说明 \n",
    "redis-py库提供了两个类Redis和StrictRedis类来实现Redis的命令操作  \n",
    "StrictRedis实现了大部分的官方命令，而Redis是StrictRedis的子类，目的是向后兼容  \n"
   ]
  },
  {
   "cell_type": "markdown",
   "metadata": {},
   "source": [
    "#### 4.连接redis  \n"
   ]
  },
  {
   "cell_type": "code",
   "execution_count": 1,
   "metadata": {},
   "outputs": [
    {
     "name": "stdout",
     "output_type": "stream",
     "text": [
      "b'123456'\n"
     ]
    }
   ],
   "source": [
    "#导入StrictRedis\n",
    "from redis import StrictRedis\n",
    "\n",
    "redis = StrictRedis(host = 'localhost', port = 6379, db = 0, password='foobared')\n",
    "print(redis.get('mykey'))"
   ]
  },
  {
   "cell_type": "markdown",
   "metadata": {},
   "source": [
    "另一种连接方式"
   ]
  },
  {
   "cell_type": "code",
   "execution_count": 4,
   "metadata": {},
   "outputs": [
    {
     "name": "stdout",
     "output_type": "stream",
     "text": [
      "b'123456'\n"
     ]
    }
   ],
   "source": [
    "from redis import StrictRedis,ConnectionPool\n",
    "\n",
    "pool = ConnectionPool(host = 'localhost', port = '6379', db = 0, password='foobared')\n",
    "redis = StrictRedis(connection_pool=pool)\n",
    "print(redis.get('mykey'))"
   ]
  },
  {
   "cell_type": "markdown",
   "metadata": {},
   "source": [
    "下面给出操作redis数据库的代码"
   ]
  },
  {
   "cell_type": "code",
   "execution_count": 21,
   "metadata": {},
   "outputs": [],
   "source": [
    "\n",
    "import redis\n",
    "from random import choice\n",
    "\n",
    "MIN_SCORE = 0\n",
    "MAX_SCORE = 100\n",
    "\n",
    "REDIS_HOST = 'localhost'\n",
    "REDIS_PORT = '6379'\n",
    "REDIS_PASSWORD = 'foobared'\n",
    "INITIAL_SCORE = 10\n",
    "REDIS_KEY = 'name'\n",
    "\n",
    "class RedisClient(object):\n",
    "    '''redis client'''\n",
    "    \n",
    "    def __init__(self, host = REDIS_HOST, port = REDIS_PORT, password = REDIS_PASSWORD):\n",
    "        \"\"\"\n",
    "        params:\n",
    "        host:Redis地址\n",
    "        port:Redis端口\n",
    "        return：添加结果\n",
    "        \"\"\"\n",
    "        self.db = redis.StrictRedis(host = host, port = port, password = password, decode_responses = True)\n",
    "    \n",
    "    #添加数据\n",
    "    def add(self, data, score = INITIAL_SCORE):\n",
    "        if not self.db.zscore(REDIS_KEY, data):\n",
    "            return self.db.zadd(REDIS_KEY, score, data)\n",
    "    \n",
    "    #判断是否存在\n",
    "    def exists(self, data):\n",
    "        return not self.db.zscore(REDIS_KEY, data) == None\n",
    "    \n",
    "    #统计个数\n",
    "    def count(self):\n",
    "        return self.db.zcard(REDIS_KEY)\n",
    "    \n",
    "    def all(self):\n",
    "        return self.db.zrangebyscore(REDIS_KEY, MIN_SCORE, MAX_SCORE)\n",
    "    \n",
    "    #讲data的score设置为MAX_SCORE\n",
    "    def max(self, data):\n",
    "        print(\"data:{data} 可用 设置为{MAX_SCORE}\".format(data = data, MAX_SCORE = MAX_SCORE))\n",
    "        return self.db.zadd(REDIS_KEY, MAX_SCORE, data)\n",
    "    \n",
    "    def random(self):\n",
    "        result = self.db.zrangebyscore(REDIS_KEY, MAX_SCORE, MAX_SCORE)\n",
    "        if len(result):\n",
    "            return choice(result)\n",
    "        else:\n",
    "            result = self.db.zrevrange(REDIS_KEY, 0, 100)\n",
    "            if len(result):\n",
    "                return choice(result)\n",
    "            else:\n",
    "                raise PoolEmptyError\n",
    "    \n",
    "    def decrease(self, data):\n",
    "        \n",
    "        score = self.db.zscore(REDIS_KEY, data)\n",
    "        if score and score > MIN_SCORE:\n",
    "            print(\"data:{data} score:{score} 减1\".format(data = data, score = score))\n",
    "            return self.db.zincrby(REDIS_KEY, data, -1)\n",
    "        else:\n",
    "            print(\"data:{data} score:{score} 移除\".format(data = data, score = score))\n",
    "            return self.db.zrem(REDIS_KEY, data)\n",
    "\n",
    "my_RedisClient = RedisClient()\n",
    "my_RedisClient.add(data = 'name1')\n",
    "my_RedisClient.add(data = 'name2')\n",
    "my_RedisClient.add(data = 'name3')"
   ]
  },
  {
   "cell_type": "code",
   "execution_count": 22,
   "metadata": {},
   "outputs": [
    {
     "data": {
      "text/plain": [
       "'name1'"
      ]
     },
     "execution_count": 22,
     "metadata": {},
     "output_type": "execute_result"
    }
   ],
   "source": [
    "my_RedisClient.random()"
   ]
  },
  {
   "cell_type": "code",
   "execution_count": 23,
   "metadata": {},
   "outputs": [
    {
     "data": {
      "text/plain": [
       "['name1', 'name2', 'name3']"
      ]
     },
     "execution_count": 23,
     "metadata": {},
     "output_type": "execute_result"
    }
   ],
   "source": [
    "my_RedisClient.all()"
   ]
  },
  {
   "cell_type": "code",
   "execution_count": 24,
   "metadata": {},
   "outputs": [
    {
     "data": {
      "text/plain": [
       "3"
      ]
     },
     "execution_count": 24,
     "metadata": {},
     "output_type": "execute_result"
    }
   ],
   "source": [
    "my_RedisClient.count()"
   ]
  },
  {
   "cell_type": "code",
   "execution_count": 25,
   "metadata": {},
   "outputs": [
    {
     "name": "stdout",
     "output_type": "stream",
     "text": [
      "data:name1 可用 设置为100\n"
     ]
    },
    {
     "data": {
      "text/plain": [
       "0"
      ]
     },
     "execution_count": 25,
     "metadata": {},
     "output_type": "execute_result"
    }
   ],
   "source": [
    "my_RedisClient.max('name1')"
   ]
  },
  {
   "cell_type": "code",
   "execution_count": 29,
   "metadata": {},
   "outputs": [
    {
     "data": {
      "text/plain": [
       "'name1'"
      ]
     },
     "execution_count": 29,
     "metadata": {},
     "output_type": "execute_result"
    }
   ],
   "source": [
    "my_RedisClient.random()"
   ]
  }
 ],
 "metadata": {
  "kernelspec": {
   "display_name": "Python 3",
   "language": "python",
   "name": "python3"
  },
  "language_info": {
   "codemirror_mode": {
    "name": "ipython",
    "version": 3
   },
   "file_extension": ".py",
   "mimetype": "text/x-python",
   "name": "python",
   "nbconvert_exporter": "python",
   "pygments_lexer": "ipython3",
   "version": "3.6.4"
  }
 },
 "nbformat": 4,
 "nbformat_minor": 2
}
