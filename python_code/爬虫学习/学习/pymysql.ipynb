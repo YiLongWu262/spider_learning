{
 "cells": [
  {
   "cell_type": "markdown",
   "metadata": {},
   "source": [
    "下载Mysql，解压，切换到bin目录下，然后在命令行分别输入下面三条命令  \n",
    "1. mysqld mysql install  \n",
    "2. mysqld  --initialize-insecure  \n",
    "3. net start mysql"
   ]
  },
  {
   "cell_type": "markdown",
   "metadata": {},
   "source": [
    "其中，character_set_client为客户端编码方式；\n",
    "\n",
    "character_set_connection为建立连接使用的编码；\n",
    "\n",
    "character_set_database数据库的编码；\n",
    "\n",
    "character_set_results结果集的编码；\n",
    "\n",
    "character_set_server数据库服务器的编码\n"
   ]
  },
  {
   "cell_type": "markdown",
   "metadata": {},
   "source": [
    "常见的mysql命令  每条命令加上;   \n",
    "mysql -u root -p  #登录  \n",
    "show databases  #显示所有的数据库  \n",
    "show tables #显示表  \n",
    "use xxxdb  #使用某个数据库   \n",
    "\n",
    "create database xxxdb #创建数据库  \n",
    "\n",
    "exit 退出\n"
   ]
  },
  {
   "cell_type": "code",
   "execution_count": null,
   "metadata": {},
   "outputs": [],
   "source": [
    "mysql -u root -p    \n",
    "create database temperature;  \n",
    "show databases;  \n",
    "use temperature;  \n",
    "\n",
    "CREATE TABLE IF NOT EXISTS chengdu(\n",
    "    date date not null primary key,\n",
    "    hightem int,\n",
    "    lowtem int,\n",
    "    temperature varchar(10),\n",
    "    winddirection varchar(10),\n",
    "    windpower varchar(10));\n"
   ]
  },
  {
   "cell_type": "code",
   "execution_count": 27,
   "metadata": {},
   "outputs": [],
   "source": [
    "import pymysql\n",
    "\n",
    "db = pymysql.connect(host='localhost',user='root',port=3306,db='temperature',charset='utf8')\n",
    "\n"
   ]
  },
  {
   "cell_type": "code",
   "execution_count": 28,
   "metadata": {},
   "outputs": [],
   "source": [
    "cursor = db.cursor()"
   ]
  },
  {
   "cell_type": "code",
   "execution_count": 29,
   "metadata": {},
   "outputs": [],
   "source": [
    "data = {\n",
    "    \"date\": \"2018-04-30\", \n",
    "    \"hightem\": \"10\", \n",
    "    \"lowtem\": \"29\", \n",
    "    \"temperature\": \"18\", \n",
    "    \"winddirection\": \"多云\", \n",
    "    \"windpower\": \"东北风\"}"
   ]
  },
  {
   "cell_type": "code",
   "execution_count": 30,
   "metadata": {},
   "outputs": [
    {
     "name": "stdout",
     "output_type": "stream",
     "text": [
      "{'date': '2018-04-30', 'hightem': '10', 'lowtem': '29', 'temperature': '18', 'winddirection': '多云', 'windpower': '东北风'}\n"
     ]
    }
   ],
   "source": [
    "print(data)"
   ]
  },
  {
   "cell_type": "code",
   "execution_count": 31,
   "metadata": {},
   "outputs": [],
   "source": [
    "table = 'chengdu'\n",
    "keys = ','.join(data.keys())\n",
    "values = ','.join(['%s']*len(data))\n",
    "sql = 'INSERT INTO {table}({keys}) VALUES ({values});'.format(table=table, keys=keys, values=values)"
   ]
  },
  {
   "cell_type": "code",
   "execution_count": 32,
   "metadata": {},
   "outputs": [
    {
     "name": "stdout",
     "output_type": "stream",
     "text": [
      "INSERT INTO chengdu(date,hightem,lowtem,temperature,winddirection,windpower) VALUES (%s,%s,%s,%s,%s,%s);\n"
     ]
    }
   ],
   "source": [
    "print(sql)\n"
   ]
  },
  {
   "cell_type": "code",
   "execution_count": 33,
   "metadata": {},
   "outputs": [
    {
     "data": {
      "text/plain": [
       "1"
      ]
     },
     "execution_count": 33,
     "metadata": {},
     "output_type": "execute_result"
    }
   ],
   "source": [
    "cursor.execute(sql, tuple(data.values()))"
   ]
  },
  {
   "cell_type": "code",
   "execution_count": 34,
   "metadata": {},
   "outputs": [],
   "source": [
    "db.commit()"
   ]
  },
  {
   "cell_type": "code",
   "execution_count": 35,
   "metadata": {},
   "outputs": [],
   "source": [
    "db.close()"
   ]
  },
  {
   "cell_type": "code",
   "execution_count": null,
   "metadata": {},
   "outputs": [],
   "source": []
  },
  {
   "cell_type": "code",
   "execution_count": 36,
   "metadata": {},
   "outputs": [
    {
     "name": "stdout",
     "output_type": "stream",
     "text": [
      "connect successfully\n",
      "INSERT INTO chengdu(date,hightem,lowtem,temperature,winddirection,windpower) VALUES (%s,%s,%s,%s,%s,%s);\n",
      "Successful insert\n"
     ]
    }
   ],
   "source": [
    "import pymysql\n",
    "\n",
    "HOST = 'localhost'\n",
    "USER = 'root'\n",
    "PORT = 3306\n",
    "\n",
    "DE_DATABASE = 'temperature'\n",
    "TABLE = 'chengdu'\n",
    "\n",
    "class MysqlClient(object):\n",
    "    \n",
    "    '''MySql Client'''\n",
    "    def __init__(self, host=HOST,user=USER,port=PORT,db=DE_DATABASE):\n",
    "        \n",
    "        #连接mysql中某个数据库\n",
    "        self.db = pymysql.connect(host,user,port,db,charset=\"utf8\")#连接mysql\n",
    "        self.cursor = self.db.cursor()#执行单元\n",
    "        print('connect successfully')\n",
    "        \n",
    "    \n",
    "    #创建数据库\n",
    "    def createDataBase(self,name):\n",
    "        sql = 'CREATE DATABASE {name} DEFAULT CHARACTER SET utf8'.format(name=name)\n",
    "        try:\n",
    "            self.cursor.execute(sql)\n",
    "            print('create database {name} successfully'.format(name=name))\n",
    "        except:\n",
    "            print('create database {name} failed'.format(name=name))\n",
    "    \n",
    "    #在某个数据库中创建表\n",
    "    def createTable(self, name):\n",
    "        \n",
    "        #创建数据表,下面的字段需要根据实际需求自己改\n",
    "        sql = '''CREATE TABLE IF NOT EXISTS {name}(\n",
    "                date date not null primary key,\n",
    "                hightem int,\n",
    "                lowtem int,\n",
    "                temperature varchar(10),\n",
    "                winddirection varchar(10),\n",
    "                windpower varchar(10));'''.format(name=name)\n",
    "        try:\n",
    "            self.cursor.execute(sql)\n",
    "            print('create table {name} successfully'.format(name=name))\n",
    "        except:\n",
    "            print('create table {name} failed'.format(name=name))\n",
    "            \n",
    "    \n",
    "    #插入数据\n",
    "    def insertData(self, data, table=TABLE):\n",
    "        #data = {}\n",
    "        #table = ''\n",
    "        keys = ','.join(data.keys())\n",
    "        values = ','.join(['%s']*len(data))\n",
    "        sql = 'INSERT INTO {table}({keys}) VALUES ({values});'.format(table=table, keys=keys, values=values)\n",
    "        print(sql)\n",
    "        try:\n",
    "            if self.cursor.execute(sql, tuple(data.values())):\n",
    "                print('Successful insert')\n",
    "                self.db.commit()\n",
    "        except:\n",
    "            print('insert failed')\n",
    "            self.db.rollback()\n",
    "    \n",
    "    #更新数据\n",
    "    def updateData(self, data, table):\n",
    "        #data = {}\n",
    "        #table = ''\n",
    "        keys = ','.join(data.keys())\n",
    "        values = ','.join(['%s']*len(data))\n",
    "        sql = 'INSERT INTO {table}({keys}) VALUES ({values}) ON DUPLICATE KEY UPDATE'.format(table=table, keys=keys, values=values)\n",
    "        update = ','.join([\"{key} = %s\".format(key=key) for key in data])\n",
    "        sql = sql + update\n",
    "        try:\n",
    "            if self.cursor.execute(sql, tuple(data.values())*2):\n",
    "                print('Successful update')\n",
    "                self.db.commit()\n",
    "        except:\n",
    "            print('update failed')\n",
    "            self.db.rollback()\n",
    "        self.db.close()\n",
    "        \n",
    "    def deleteData(self, table, condition):\n",
    "        #table = ''\n",
    "        #condition = ''\n",
    "        sql = 'DELETE FROM {table} WHERE {condition}'.format(table=table, condition=condition)\n",
    "        try:\n",
    "            self.cursor.execute(sql)\n",
    "            print('delete data successfully')\n",
    "            self.db.commit()\n",
    "        except:\n",
    "            self.db.rollback()\n",
    "        self.db.rollback()\n",
    "        \n",
    "    def queryData(self, condition):\n",
    "        pass\n",
    "\n",
    "app = MysqlClient()\n",
    "data = {\n",
    "    \"date\": \"2017-04-30\", \n",
    "    \"hightem\": \"10\", \n",
    "    \"lowtem\": \"29\", \n",
    "    \"temperature\": \"18\", \n",
    "    \"winddirection\": \"多云\", \n",
    "    \"windpower\": \"东北风\"}\n",
    "app.insertData(data)"
   ]
  },
  {
   "cell_type": "code",
   "execution_count": null,
   "metadata": {},
   "outputs": [],
   "source": [
    "app"
   ]
  },
  {
   "cell_type": "markdown",
   "metadata": {},
   "source": [
    "下面进行调试"
   ]
  },
  {
   "cell_type": "code",
   "execution_count": 7,
   "metadata": {},
   "outputs": [
    {
     "name": "stdout",
     "output_type": "stream",
     "text": [
      "date,hightem,lowtem,temperature,winddirection,windpower\n",
      "%s,%s,%s,%s,%s,%s\n",
      "INSERT INTO chengdu(date,hightem,lowtem,temperature,winddirection,windpower) VALUES (%s,%s,%s,%s,%s,%s)\n",
      "('2018-04-30', '10', '29', '18', '多云', '东北风')\n"
     ]
    }
   ],
   "source": [
    "\n",
    "data = {\n",
    "    \"date\": \"2018-04-30\", \n",
    "    \"hightem\": \"10\", \n",
    "    \"lowtem\": \"29\", \n",
    "    \"temperature\": \"18\", \n",
    "    \"winddirection\": \"多云\", \n",
    "    \"windpower\": \"东北风\"}\n",
    "\n",
    "table = 'chengdu'\n",
    "keys = ','.join(data.keys())\n",
    "print(keys)\n",
    "values = ','.join(['%s']*len(data))\n",
    "print(values)\n",
    "sql = 'INSERT INTO {table}({keys}) VALUES ({values})'.format(table=table, keys=keys, values=values)\n",
    "print(sql)\n",
    "print(tuple(data.values()))"
   ]
  },
  {
   "cell_type": "code",
   "execution_count": null,
   "metadata": {},
   "outputs": [],
   "source": [
    "INSERT INTO chengdu VALUES('2018-04-30', '10', '29', '18', '多云', '东北风')"
   ]
  },
  {
   "cell_type": "code",
   "execution_count": 8,
   "metadata": {},
   "outputs": [
    {
     "name": "stdout",
     "output_type": "stream",
     "text": [
      "CREATE TABLE IF NOT EXISTS chengdu(\n",
      "        date date not null primary key,\n",
      "        hightem int,\n",
      "        lowtem int,\n",
      "        temperature int,\n",
      "        winddirection varchar(10),\n",
      "        windpower varchar(10));\n"
     ]
    }
   ],
   "source": [
    "name = 'chengdu'\n",
    "sql = '''CREATE TABLE IF NOT EXISTS {name}(\n",
    "        date date not null primary key,\n",
    "        hightem int,\n",
    "        lowtem int,\n",
    "        temperature int,\n",
    "        winddirection varchar(10),\n",
    "        windpower varchar(10));'''.format(name=name)\n",
    "print(sql)"
   ]
  }
 ],
 "metadata": {
  "kernelspec": {
   "display_name": "Python 3",
   "language": "python",
   "name": "python3"
  },
  "language_info": {
   "codemirror_mode": {
    "name": "ipython",
    "version": 3
   },
   "file_extension": ".py",
   "mimetype": "text/x-python",
   "name": "python",
   "nbconvert_exporter": "python",
   "pygments_lexer": "ipython3",
   "version": "3.6.4"
  }
 },
 "nbformat": 4,
 "nbformat_minor": 2
}
