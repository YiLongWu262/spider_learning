{
 "cells": [
  {
   "cell_type": "markdown",
   "metadata": {},
   "source": [
    "子类并不会自动调用父类的构造函数"
   ]
  },
  {
   "cell_type": "code",
   "execution_count": 4,
   "metadata": {},
   "outputs": [
    {
     "name": "stdout",
     "output_type": "stream",
     "text": [
      "Circle __init__()\n"
     ]
    }
   ],
   "source": [
    "\n",
    "class Shape():\n",
    "    \n",
    "    def __init__(self):\n",
    "        print('Shape __init__()')\n",
    "        \n",
    "class Circle(Shape):\n",
    "    '''Circle'''\n",
    "    def __init__(self):\n",
    "        print('Circle __init__()')\n",
    "\n",
    "c = Circle()\n",
    "\n",
    "    "
   ]
  },
  {
   "cell_type": "markdown",
   "metadata": {},
   "source": [
    "调用父类的构造函数有两种方式  \n",
    "1. Shape.__init__(self)\n",
    "2. super(Circle, self).__init__()"
   ]
  },
  {
   "cell_type": "code",
   "execution_count": 5,
   "metadata": {},
   "outputs": [
    {
     "name": "stdout",
     "output_type": "stream",
     "text": [
      "Shape __init__()\n",
      "Circle __init__()\n"
     ]
    }
   ],
   "source": [
    "#第一种构造父类构造函数的方法\n",
    "\n",
    "class Shape():\n",
    "    \n",
    "    def __init__(self):\n",
    "        print('Shape __init__()')\n",
    "        \n",
    "class Circle(Shape):\n",
    "    '''Circle'''\n",
    "    def __init__(self):\n",
    "        Shape.__init__(self)\n",
    "        print('Circle __init__()')\n",
    "\n",
    "c = Circle()"
   ]
  },
  {
   "cell_type": "code",
   "execution_count": 6,
   "metadata": {},
   "outputs": [
    {
     "name": "stdout",
     "output_type": "stream",
     "text": [
      "Shape __init__()\n",
      "Circle __init__()\n"
     ]
    }
   ],
   "source": [
    "#第二种调用父类构造函数的方法\n",
    "\n",
    "class Shape():\n",
    "    \n",
    "    def __init__(self):\n",
    "        print('Shape __init__()')\n",
    "        \n",
    "class Circle(Shape):\n",
    "    '''Circle'''\n",
    "    def __init__(self):\n",
    "        super(Circle, self).__init__()\n",
    "        print('Circle __init__()')\n",
    "\n",
    "c = Circle()"
   ]
  }
 ],
 "metadata": {
  "kernelspec": {
   "display_name": "Python 3",
   "language": "python",
   "name": "python3"
  },
  "language_info": {
   "codemirror_mode": {
    "name": "ipython",
    "version": 3
   },
   "file_extension": ".py",
   "mimetype": "text/x-python",
   "name": "python",
   "nbconvert_exporter": "python",
   "pygments_lexer": "ipython3",
   "version": "3.6.4"
  }
 },
 "nbformat": 4,
 "nbformat_minor": 2
}
