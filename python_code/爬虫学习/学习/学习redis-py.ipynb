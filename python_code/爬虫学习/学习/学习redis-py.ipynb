{
 "cells": [
  {
   "cell_type": "markdown",
   "metadata": {},
   "source": [
    "## 介绍  \n",
    "The Python interface to the Redis key-value store  \n",
    "\n",
    "1. [文档](http://redis-py.readthedocs.io/en/latest/)  \n",
    "2. [官方文档](https://github.com/WoLpH/redis-py)"
   ]
  },
  {
   "cell_type": "markdown",
   "metadata": {},
   "source": [
    "#### 1.安装"
   ]
  },
  {
   "cell_type": "code",
   "execution_count": null,
   "metadata": {},
   "outputs": [],
   "source": [
    "pip3 install redis"
   ]
  },
  {
   "cell_type": "markdown",
   "metadata": {},
   "source": [
    "#### 2.查看是否安装成功"
   ]
  },
  {
   "cell_type": "code",
   "execution_count": 1,
   "metadata": {},
   "outputs": [
    {
     "name": "stdout",
     "output_type": "stream",
     "text": [
      "(2, 10, 6)\n"
     ]
    }
   ],
   "source": [
    "import redis\n",
    "print(redis.VERSION)"
   ]
  },
  {
   "cell_type": "markdown",
   "metadata": {},
   "source": [
    "#### 3.redis的说明 \n",
    "redis-py库提供了两个类Redis和StrictRedis类来实现Redis的命令操作  \n",
    "StrictRedis实现了大部分的官方命令，而Redis是StrictRedis的子类，目的是向后兼容  \n"
   ]
  },
  {
   "cell_type": "markdown",
   "metadata": {},
   "source": [
    "#### 4.连接redis  \n"
   ]
  },
  {
   "cell_type": "code",
   "execution_count": 1,
   "metadata": {},
   "outputs": [
    {
     "name": "stdout",
     "output_type": "stream",
     "text": [
      "b'123456'\n"
     ]
    }
   ],
   "source": [
    "#导入StrictRedis\n",
    "from redis import StrictRedis\n",
    "\n",
    "redis = StrictRedis(host = 'localhost', port = 6379, db = 0, password='foobared')\n",
    "print(redis.get('mykey'))"
   ]
  },
  {
   "cell_type": "markdown",
   "metadata": {},
   "source": [
    "另一种连接方式"
   ]
  },
  {
   "cell_type": "code",
   "execution_count": 4,
   "metadata": {},
   "outputs": [
    {
     "name": "stdout",
     "output_type": "stream",
     "text": [
      "b'123456'\n"
     ]
    }
   ],
   "source": [
    "from redis import StrictRedis,ConnectionPool\n",
    "\n",
    "pool = ConnectionPool(host = 'localhost', port = '6379', db = 0, password='foobared')\n",
    "redis = StrictRedis(connection_pool=pool)\n",
    "print(redis.get('mykey'))"
   ]
  }
 ],
 "metadata": {
  "kernelspec": {
   "display_name": "Python 3",
   "language": "python",
   "name": "python3"
  },
  "language_info": {
   "codemirror_mode": {
    "name": "ipython",
    "version": 3
   },
   "file_extension": ".py",
   "mimetype": "text/x-python",
   "name": "python",
   "nbconvert_exporter": "python",
   "pygments_lexer": "ipython3",
   "version": "3.6.4"
  }
 },
 "nbformat": 4,
 "nbformat_minor": 2
}
