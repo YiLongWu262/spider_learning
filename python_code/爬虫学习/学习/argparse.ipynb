{
 "cells": [
  {
   "cell_type": "markdown",
   "metadata": {},
   "source": [
    "argparse是python用于解析命令行参数和选项的标准模块，用于代替已经过时的optparse模块。  \n",
    "argparse模块的作用是用于解析命令行参数，例如python parseTest.py input.txt output.txt --user=name --port=8080。"
   ]
  },
  {
   "cell_type": "code",
   "execution_count": null,
   "metadata": {},
   "outputs": [],
   "source": [
    "import argparse\n",
    "\n",
    "parser = argparse.ArgumentParser()#创建解析对象\n",
    "parser.add_argument()#添加需要关注的参数和选项\n",
    "parser.parse_args()#进行解析"
   ]
  },
  {
   "cell_type": "code",
   "execution_count": null,
   "metadata": {},
   "outputs": [],
   "source": [
    "import argparse\n",
    "\n",
    "#命令行输入参数处理\n",
    "parser = argparse.ArgumentParser()\n",
    "parser.add_argument('file')#添加需要关注的输入文件参数\n",
    "parser.add_argument('-o', '--output')#添加需要关注的输出文件参数\n",
    "parser.add_argument('--width', type = int, default = 80) #输出字符画宽\n",
    "parser.add_argument('--height', type = int, default = 80) #输出字符画高\n",
    "args = parser.parse_args()#进行解析\n",
    "\n",
    "#获取参数\n",
    "IMG = args.file#输入文件\n",
    "WIDTH = args.width#输出字符画宽\n",
    "HEIGHT = args.height#输出字符画高\n",
    "OUTPUT = args.output"
   ]
  }
 ],
 "metadata": {
  "kernelspec": {
   "display_name": "Python 3",
   "language": "python",
   "name": "python3"
  },
  "language_info": {
   "codemirror_mode": {
    "name": "ipython",
    "version": 3
   },
   "file_extension": ".py",
   "mimetype": "text/x-python",
   "name": "python",
   "nbconvert_exporter": "python",
   "pygments_lexer": "ipython3",
   "version": "3.6.4"
  }
 },
 "nbformat": 4,
 "nbformat_minor": 2
}
