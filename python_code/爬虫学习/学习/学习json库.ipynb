{
 "cells": [
  {
   "cell_type": "markdown",
   "metadata": {},
   "source": [
    "**学习json库的使用**"
   ]
  },
  {
   "cell_type": "markdown",
   "metadata": {},
   "source": [
    "**json是一种轻量级的数据交换格式，易于编写和阅读**"
   ]
  },
  {
   "cell_type": "markdown",
   "metadata": {},
   "source": [
    "**1.json.dumps()**  \n",
    "json.dumps 用于将 Python 对象编码成 JSON 字符串  \n",
    "**语法:**  \n",
    "json.dumps(obj, skipkeys=False, ensure_ascii=True, check_circular=True, allow_nan=True, cls=None, indent=None, separators=None, encoding=\"utf-8\", default=None, sort_keys=False, **kw)"
   ]
  },
  {
   "cell_type": "code",
   "execution_count": 7,
   "metadata": {},
   "outputs": [
    {
     "name": "stdout",
     "output_type": "stream",
     "text": [
      "[{\"a\": 1, \"b\": 2, \"c\": 3, \"d\": 4, \"e\": 5}]\n",
      "<class 'str'>\n"
     ]
    }
   ],
   "source": [
    "import json\n",
    "data = [ { 'a' : 1, 'b' : 2, 'c' : 3, 'd' : 4, 'e' : 5 } ]\n",
    "json = json.dumps(data)\n",
    "print(json)\n",
    "print(type(json))"
   ]
  },
  {
   "cell_type": "markdown",
   "metadata": {},
   "source": [
    "使用参数让 JSON 数据格式化输出:"
   ]
  },
  {
   "cell_type": "code",
   "execution_count": 12,
   "metadata": {},
   "outputs": [
    {
     "name": "stdout",
     "output_type": "stream",
     "text": [
      "{\n",
      "    \"a\": \"Runoob\",\n",
      "    \"b\": 7\n",
      "}\n"
     ]
    }
   ],
   "source": [
    "import json\n",
    "print(json.dumps({'a':'Runoob','b':7}, sort_keys = True, indent = 4, separators=(',', ': ')))"
   ]
  },
  {
   "cell_type": "markdown",
   "metadata": {},
   "source": [
    "[python 原始类型向 json 类型的转化对照表](http://www.runoob.com/python/python-json.html)"
   ]
  },
  {
   "cell_type": "markdown",
   "metadata": {},
   "source": [
    "**2.json.loads()**  \n",
    "json.loads 用于解码 JSON 数据。该函数返回 Python 字段的数据类型。"
   ]
  },
  {
   "cell_type": "code",
   "execution_count": 20,
   "metadata": {},
   "outputs": [
    {
     "name": "stdout",
     "output_type": "stream",
     "text": [
      "{\"a\":1,\"b\":2,\"c\":3,\"d\":4,\"e\":5}\n",
      "<class 'str'>\n",
      "{'a': 1, 'b': 2, 'c': 3, 'd': 4, 'e': 5}\n",
      "<class 'dict'>\n"
     ]
    }
   ],
   "source": [
    "import json\n",
    "\n",
    "jsondata = '{\"a\":1,\"b\":2,\"c\":3,\"d\":4,\"e\":5}'\n",
    "print(jsondata)\n",
    "print(type(jsondata))\n",
    "text = json.loads(jsondata)\n",
    "print(text)\n",
    "print(type(text))"
   ]
  }
 ],
 "metadata": {
  "kernelspec": {
   "display_name": "Python 3",
   "language": "python",
   "name": "python3"
  },
  "language_info": {
   "codemirror_mode": {
    "name": "ipython",
    "version": 3
   },
   "file_extension": ".py",
   "mimetype": "text/x-python",
   "name": "python",
   "nbconvert_exporter": "python",
   "pygments_lexer": "ipython3",
   "version": "3.6.4"
  }
 },
 "nbformat": 4,
 "nbformat_minor": 2
}
