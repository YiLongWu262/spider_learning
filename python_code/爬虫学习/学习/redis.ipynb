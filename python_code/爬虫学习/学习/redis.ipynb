{
 "cells": [
  {
   "cell_type": "markdown",
   "metadata": {},
   "source": [
    "1. [redis命令参考](http://www.redis.net.cn/order/)  \n",
    "2. [redis主要命令参考](http://doc.redisfans.com/)  推荐\n",
    "3. [官方入门](http://www.redis.net.cn/tutorial/3502.html)\n",
    "4. [try redis](http://try.redis.io/)"
   ]
  },
  {
   "cell_type": "markdown",
   "metadata": {},
   "source": [
    "#### 1.redis介绍"
   ]
  },
  {
   "cell_type": "markdown",
   "metadata": {},
   "source": [
    "Redis 是完全开源免费的，遵守BSD协议，是一个高性能的key-value数据库。  \n",
    "Redis 与其他 key - value 缓存产品有以下三个特点：  \n",
    "Redis支持数据的持久化，可以将内存中的数据保持在磁盘中，重启的时候可以再次加载进行使用。  \n",
    "Redis不仅仅支持简单的key-value类型的数据，同时还提供list，set，zset，hash等数据结构的存储。  \n",
    "Redis支持数据的备份，即master-slave模式的数据备份。"
   ]
  },
  {
   "cell_type": "markdown",
   "metadata": {},
   "source": [
    "#### 2.安装\n",
    "[参考](http://www.redis.net.cn/tutorial/3503.html)"
   ]
  },
  {
   "cell_type": "markdown",
   "metadata": {},
   "source": [
    "#### 3.redis配置  \n",
    "Redis 的配置文件位于 Redis 安装目录下，文件名为 redis.conf。  \n",
    "你可以通过 CONFIG 命令查看或设置配置项。  \n",
    "[参考](http://www.redis.net.cn/tutorial/3504.html)"
   ]
  },
  {
   "cell_type": "markdown",
   "metadata": {},
   "source": [
    "#### 4.redis数据类型\n",
    "Redis支持五种数据类型：string（字符串），hash（哈希），list（列表），set（集合）及zset(sorted set：有序集合)。"
   ]
  },
  {
   "cell_type": "markdown",
   "metadata": {},
   "source": [
    "#### 5.redis命令  \n",
    "Redis 命令用于在 redis 服务上执行操作。  \n",
    "要在 redis 服务上执行命令需要一个 redis 客户端。Redis 客户端在我们之前下载的的 redis 的安装包中。  \n",
    "以下实例讲解了如何启动 redis 客户端：  \n",
    "启动 redis 客户端，打开终端并输入命令 redis-cli。该命令会连接本地的 redis 服务。"
   ]
  },
  {
   "cell_type": "code",
   "execution_count": null,
   "metadata": {},
   "outputs": [],
   "source": [
    "$redis-cli\n",
    "redis 127.0.0.1:6379>\n",
    "redis 127.0.0.1:6379> PING\n",
    " \n",
    "PONG"
   ]
  },
  {
   "cell_type": "markdown",
   "metadata": {},
   "source": [
    "#### 6.redis键命令  \n",
    "Redis 键命令用于管理 redis 的键。  \n",
    "Redis 键命令的基本语法如下："
   ]
  },
  {
   "cell_type": "code",
   "execution_count": null,
   "metadata": {},
   "outputs": [],
   "source": [
    "redis 127.0.0.1:6379> COMMAND KEY_NAME\n",
    "    \n",
    "#实例\n",
    "#在下面实例中 DEL 是一个命令， w3ckey 是一个键。 如果键被删除成功，命令执行后输出 (integer) 1，否则将输出 (integer) 0\n",
    "\n",
    "redis 127.0.0.1:6379> SET w3ckey redis\n",
    "OK\n",
    "redis 127.0.0.1:6379> DEL w3ckey\n",
    "(integer) 1"
   ]
  },
  {
   "cell_type": "markdown",
   "metadata": {},
   "source": [
    "#### 7.五种基本数据类型的命令\n",
    "[参考](http://doc.redisfans.com/)"
   ]
  }
 ],
 "metadata": {
  "kernelspec": {
   "display_name": "Python 3",
   "language": "python",
   "name": "python3"
  },
  "language_info": {
   "codemirror_mode": {
    "name": "ipython",
    "version": 3
   },
   "file_extension": ".py",
   "mimetype": "text/x-python",
   "name": "python",
   "nbconvert_exporter": "python",
   "pygments_lexer": "ipython3",
   "version": "3.6.4"
  }
 },
 "nbformat": 4,
 "nbformat_minor": 2
}
