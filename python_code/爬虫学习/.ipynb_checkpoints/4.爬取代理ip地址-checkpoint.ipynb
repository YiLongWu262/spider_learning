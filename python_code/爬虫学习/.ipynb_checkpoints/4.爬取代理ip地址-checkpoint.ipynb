{
 "cells": [
  {
   "cell_type": "markdown",
   "metadata": {},
   "source": [
    "代理池\n",
    "http://www.xicidaili.com/\n",
    "http://www.xicidaili.com/nn/4"
   ]
  },
  {
   "cell_type": "code",
   "execution_count": 27,
   "metadata": {},
   "outputs": [
    {
     "name": "stdout",
     "output_type": "stream",
     "text": [
      "http://www.xicidaili.com/nn/1\n"
     ]
    }
   ],
   "source": [
    "import requests\n",
    "base_url = 'http://www.xicidaili.com/nn/'\n",
    "page = 1;\n",
    "url = base_url + str(page)\n",
    "print(url)\n",
    "\n",
    "headers = {\n",
    "    'User-Agent':'Mozilla/5.0 (Windows NT 6.1; WOW64) AppleWebKit/537.36 (KHTML, like Gecko) Chrome/55.0.2883.87 Safari/537.36'\n",
    "}\n",
    "\n",
    "try:\n",
    "    response = requests.get(url, headers = headers)\n",
    "except:\n",
    "    print('ERROR')"
   ]
  },
  {
   "cell_type": "code",
   "execution_count": 29,
   "metadata": {},
   "outputs": [],
   "source": [
    "from bs4 import BeautifulSoup\n",
    "soup = BeautifulSoup(response.text, \"lxml\")\n"
   ]
  },
  {
   "cell_type": "code",
   "execution_count": 33,
   "metadata": {},
   "outputs": [],
   "source": [
    "tbody = soup.find('table')"
   ]
  },
  {
   "cell_type": "code",
   "execution_count": 35,
   "metadata": {},
   "outputs": [],
   "source": [
    "items = tbody.find_all('tr')"
   ]
  },
  {
   "cell_type": "code",
   "execution_count": 36,
   "metadata": {},
   "outputs": [
    {
     "name": "stdout",
     "output_type": "stream",
     "text": [
      "101\n"
     ]
    }
   ],
   "source": [
    "print(len(items))"
   ]
  },
  {
   "cell_type": "code",
   "execution_count": 85,
   "metadata": {},
   "outputs": [],
   "source": [
    "iplists = []\n",
    "for item in items:\n",
    "    if len(item.find_all('td')) != 0:\n",
    "        ip = item.find_all('td')[1].text\n",
    "        port = item.find_all('td')[2].text\n",
    "        #print('ip:{ip} port:{port}'.format(ip = ip,port = port))\n",
    "        tmp = {'ip':ip,'port':port}\n",
    "        iplists.append(tmp)"
   ]
  },
  {
   "cell_type": "code",
   "execution_count": 86,
   "metadata": {},
   "outputs": [
    {
     "name": "stdout",
     "output_type": "stream",
     "text": [
      "[{'ip': '111.197.239.219', 'port': '8118'}, {'ip': '183.159.94.132', 'port': '18118'}, {'ip': '183.159.84.129', 'port': '18118'}, {'ip': '218.72.64.157', 'port': '18118'}, {'ip': '222.76.187.194', 'port': '8118'}, {'ip': '223.241.116.5', 'port': '18118'}, {'ip': '60.177.231.131', 'port': '18118'}, {'ip': '183.159.94.67', 'port': '18118'}, {'ip': '114.225.171.84', 'port': '53128'}, {'ip': '183.159.84.117', 'port': '18118'}, {'ip': '110.85.241.111', 'port': '8118'}, {'ip': '123.56.89.238', 'port': '60443'}, {'ip': '49.79.196.179', 'port': '61234'}, {'ip': '183.159.95.80', 'port': '18118'}, {'ip': '60.177.224.201', 'port': '18118'}, {'ip': '112.239.90.159', 'port': '61234'}, {'ip': '114.215.107.94', 'port': '60443'}, {'ip': '111.170.105.230', 'port': '61234'}, {'ip': '112.80.118.148', 'port': '8118'}, {'ip': '183.159.90.67', 'port': '18118'}, {'ip': '183.159.91.88', 'port': '18118'}, {'ip': '42.7.26.21', 'port': '60443'}, {'ip': '183.159.81.194', 'port': '18118'}, {'ip': '183.159.89.25', 'port': '18118'}, {'ip': '60.177.225.158', 'port': '18118'}, {'ip': '222.89.74.246', 'port': '8010'}, {'ip': '223.241.118.213', 'port': '8010'}, {'ip': '180.121.131.44', 'port': '808'}, {'ip': '114.230.206.8', 'port': '8118'}, {'ip': '110.73.2.199', 'port': '8123'}, {'ip': '121.62.50.166', 'port': '61234'}, {'ip': '49.79.195.225', 'port': '61234'}, {'ip': '49.79.193.44', 'port': '61234'}, {'ip': '182.108.47.5', 'port': '8888'}, {'ip': '49.79.196.178', 'port': '61234'}, {'ip': '124.135.101.91', 'port': '61234'}, {'ip': '183.159.94.22', 'port': '18118'}, {'ip': '182.202.220.8', 'port': '61234'}, {'ip': '183.4.30.251', 'port': '8118'}, {'ip': '183.159.90.205', 'port': '18118'}, {'ip': '119.180.199.63', 'port': '61234'}, {'ip': '119.28.142.148', 'port': '8888'}, {'ip': '183.159.93.60', 'port': '18118'}, {'ip': '61.135.217.7', 'port': '80'}, {'ip': '122.114.31.177', 'port': '808'}, {'ip': '183.159.82.83', 'port': '18118'}, {'ip': '183.159.89.245', 'port': '18118'}, {'ip': '218.72.111.37', 'port': '18118'}, {'ip': '175.171.149.63', 'port': '80'}, {'ip': '183.159.88.97', 'port': '18118'}, {'ip': '221.230.199.116', 'port': '8181'}, {'ip': '183.128.32.66', 'port': '18118'}, {'ip': '183.159.92.198', 'port': '18118'}, {'ip': '60.177.225.110', 'port': '18118'}, {'ip': '223.241.78.84', 'port': '8010'}, {'ip': '113.87.192.89', 'port': '61234'}, {'ip': '223.241.78.249', 'port': '18118'}, {'ip': '182.202.220.55', 'port': '61234'}, {'ip': '27.16.163.92', 'port': '3128'}, {'ip': '223.241.78.149', 'port': '18118'}, {'ip': '121.234.34.149', 'port': '61234'}, {'ip': '183.159.85.157', 'port': '18118'}, {'ip': '27.40.157.124', 'port': '61234'}, {'ip': '27.190.24.158', 'port': '8118'}, {'ip': '183.159.95.57', 'port': '18118'}, {'ip': '115.219.108.204', 'port': '8010'}, {'ip': '183.159.80.84', 'port': '18118'}, {'ip': '223.241.116.154', 'port': '8010'}, {'ip': '112.95.32.175', 'port': '8118'}, {'ip': '110.73.55.208', 'port': '8123'}, {'ip': '125.118.148.184', 'port': '808'}, {'ip': '119.96.75.87', 'port': '61202'}, {'ip': '183.159.94.129', 'port': '18118'}, {'ip': '183.136.101.78', 'port': '61234'}, {'ip': '183.159.88.31', 'port': '18118'}, {'ip': '114.214.162.136', 'port': '8118'}, {'ip': '114.100.178.83', 'port': '61234'}, {'ip': '60.177.230.80', 'port': '18118'}, {'ip': '223.241.78.217', 'port': '18118'}, {'ip': '180.118.242.228', 'port': '61234'}, {'ip': '111.183.230.26', 'port': '61234'}, {'ip': '171.13.83.30', 'port': '61234'}, {'ip': '49.79.196.84', 'port': '61234'}, {'ip': '223.241.78.119', 'port': '18118'}, {'ip': '140.237.115.56', 'port': '808'}, {'ip': '59.173.49.230', 'port': '61202'}, {'ip': '222.142.11.60', 'port': '61202'}, {'ip': '180.160.103.185', 'port': '8118'}, {'ip': '183.159.83.42', 'port': '18118'}, {'ip': '223.241.116.68', 'port': '8010'}, {'ip': '119.162.58.224', 'port': '8118'}, {'ip': '218.72.110.29', 'port': '18118'}, {'ip': '183.159.82.176', 'port': '18118'}, {'ip': '49.79.196.155', 'port': '61234'}, {'ip': '223.241.117.118', 'port': '18118'}, {'ip': '218.72.65.202', 'port': '18118'}, {'ip': '114.223.190.248', 'port': '61202'}, {'ip': '117.82.55.220', 'port': '8118'}, {'ip': '117.36.103.170', 'port': '8118'}, {'ip': '218.72.64.155', 'port': '18118'}]\n"
     ]
    }
   ],
   "source": [
    "print(iplists)"
   ]
  },
  {
   "cell_type": "markdown",
   "metadata": {},
   "source": [
    "整理一下代码"
   ]
  },
  {
   "cell_type": "code",
   "execution_count": null,
   "metadata": {},
   "outputs": [],
   "source": [
    "import requests\n",
    "from bs4 import BeautifulSoup\n",
    "\n",
    "base_url = 'http://www.xicidaili.com/nn/'\n",
    "page = 1;\n",
    "url = base_url + str(page)\n",
    "\n",
    "\n",
    "class AgentPool(object):\n",
    "    '''IP代理池'''\n",
    "    def __init__(self):\n",
    "        self.MAXPAGE_SIZE = 10 #爬取的页面数量\n",
    "        self.BASE_URL = 'http://www.xicidaili.com/nn/'#爬取的页面的基地址\n",
    "        self.headers = {\n",
    "            'User-Agent':'Mozilla/5.0 (Windows NT 6.1; WOW64) AppleWebKit/537.36 (KHTML, like Gecko) Chrome/55.0.2883.87 Safari/537.36'\n",
    "        }\n",
    "        self.ip_lists = [] #获取到的代理池数据\n",
    "        \n",
    "    #获取页面\n",
    "    def getPage(url):\n",
    "        try:\n",
    "            response = requests.get(url, headers = headers)\n",
    "            return response.text\n",
    "        except:\n",
    "            print('ERROR')\n",
    "\n",
    "    #获取数据\n",
    "    def get_data(text):\n",
    "        iplists = []\n",
    "        soup = BeautifulSoup(response.text, \"lxml\")\n",
    "        tbody = soup.find('table')\n",
    "        items = tbody.find_all('tr')\n",
    "        for item in items:\n",
    "            ip,port = getIpPort(item)#获取ip和port\n",
    "            #print('ip:{ip} port:{port}'.format(ip = ip,port = port))\n",
    "            tmp = {'ip':ip,'port':port}\n",
    "            iplists.append(tmp)#添加到ip列表池中\n",
    "\n",
    "    #获取ip和port\n",
    "    def getIpPort(item):\n",
    "        #确保找到ip和port，不是表头\n",
    "        if len(item.find_all('td')) != 0:\n",
    "            ip = item.find_all('td')[1].text\n",
    "            port = item.find_all('td')[2].text\n",
    "            return ip,port"
   ]
  }
 ],
 "metadata": {
  "kernelspec": {
   "display_name": "Python 3",
   "language": "python",
   "name": "python3"
  },
  "language_info": {
   "codemirror_mode": {
    "name": "ipython",
    "version": 3
   },
   "file_extension": ".py",
   "mimetype": "text/x-python",
   "name": "python",
   "nbconvert_exporter": "python",
   "pygments_lexer": "ipython3",
   "version": "3.6.4"
  }
 },
 "nbformat": 4,
 "nbformat_minor": 2
}
