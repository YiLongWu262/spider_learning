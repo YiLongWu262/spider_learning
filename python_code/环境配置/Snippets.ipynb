{
 "cells": [
  {
   "cell_type": "markdown",
   "metadata": {},
   "source": [
    "<snippet>\n",
    "\t<content><![CDATA[\n",
    "Hello, ${1:this} is a ${2:snippet}.\n",
    "]]></content>\n",
    "\t<!-- Optional: Set a tabTrigger to define how to trigger the snippet -->\n",
    "\t<!-- <tabTrigger>hello</tabTrigger> -->\n",
    "\t<!-- Optional: Set a scope to limit where the snippet will trigger -->\n",
    "\t<!-- <scope>source.python</scope> -->\n",
    "</snippet>\n"
   ]
  },
  {
   "cell_type": "markdown",
   "metadata": {},
   "source": [
    "content：实际的片段\n"
   ]
  }
 ],
 "metadata": {
  "kernelspec": {
   "display_name": "Python 3",
   "language": "python",
   "name": "python3"
  },
  "language_info": {
   "codemirror_mode": {
    "name": "ipython",
    "version": 3
   },
   "file_extension": ".py",
   "mimetype": "text/x-python",
   "name": "python",
   "nbconvert_exporter": "python",
   "pygments_lexer": "ipython3",
   "version": "3.6.4"
  }
 },
 "nbformat": 4,
 "nbformat_minor": 2
}
