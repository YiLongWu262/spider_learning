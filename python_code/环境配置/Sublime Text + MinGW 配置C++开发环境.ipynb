{
 "cells": [
  {
   "cell_type": "markdown",
   "metadata": {},
   "source": [
    "## 1首先配置MinGW  \n",
    "[MinGW下载地址](https://sourceforge.net/projects/mingw/files/latest/download?source=files)  \n",
    "安装完成以后，在系统变量path中加入MinGW > bin  \n",
    "最后在cmd中运行g++ -v 确认是否安装成功  \n",
    "[参考安装地址](https://www.jianshu.com/p/e9ff7b654c4a)"
   ]
  },
  {
   "cell_type": "markdown",
   "metadata": {},
   "source": [
    "## 2新建模板"
   ]
  },
  {
   "cell_type": "markdown",
   "metadata": {},
   "source": [
    "#同样在Tools > Build System > New Build System新建编译模板，保存为C++11.sublime-build  "
   ]
  },
  {
   "cell_type": "code",
   "execution_count": null,
   "metadata": {},
   "outputs": [],
   "source": [
    "\n",
    "{   \n",
    "  \"encoding\": \"utf-8\",  \n",
    "  \"working_dir\": \"$file_path\",  \n",
    "  \"shell_cmd\": \"g++ -Wall \\\"$file_name\\\" -o \\\"$file_base_name\\\"\",   \n",
    "  \"file_regex\": \"^(..[^:]*):([0-9]+):?([0-9]+)?:? (.*)$\",            \n",
    "  \"selector\": \"source.c++\",     \n",
    "  \"variants\":   \n",
    "  [     \n",
    "    {           \n",
    "      \"name\": \"Run\",            \n",
    "      \"shell_cmd\": \"g++ -Wall  \\\"$file\\\" -o \\\"$file_base_name\\\" && start cmd /c \\\"\\\"${file_path}/${file_base_name}\\\" & pause\\\"\"     \n",
    "    }   \n",
    "  ]\n",
    "}"
   ]
  },
  {
   "cell_type": "markdown",
   "metadata": {},
   "source": [
    "## 如何用sublime text 编写代码片段"
   ]
  },
  {
   "cell_type": "code",
   "execution_count": null,
   "metadata": {},
   "outputs": [],
   "source": []
  },
  {
   "cell_type": "markdown",
   "metadata": {},
   "source": [
    "## 3oj刷题常用模版"
   ]
  },
  {
   "cell_type": "markdown",
   "metadata": {},
   "source": [
    "sublime中可以添加代码片段  \n",
    "创建方法：Tools （工具）> Developer > New Snippet（新片段）  \n",
    "保存为acm.sublime-snippet\n",
    "然后我们新建了一个test.cpp文件，输入acm，再按下Tap键就会自动填充我们定义的代码片段  \n",
    "[参考网址](http://www.cnblogs.com/huangjiaming/p/7364004.html)"
   ]
  },
  {
   "cell_type": "code",
   "execution_count": null,
   "metadata": {},
   "outputs": [],
   "source": [
    "<snippet>\n",
    "    <content>\n",
    "    <![CDATA[\n",
    "#pragma comment(linker, \"/STACK:1024000000,1024000000\")\n",
    "#include <stdio.h>\n",
    "#include <iostream>\n",
    "#include <cstdlib>\n",
    "#include <cmath>\n",
    "#include <cctype>\n",
    "#include <string>\n",
    "#include <cstring>\n",
    "#include <algorithm>\n",
    "#include <stack>\n",
    "#include <queue>\n",
    "#include <set>\n",
    "#include <map>\n",
    "#include <ctime>\n",
    "#include <vector>\n",
    "#include <fstream>\n",
    "#include <list>\n",
    "#include <iomanip>\n",
    "#include <numeric>\n",
    "using namespace std;\n",
    "typedef long long ll;\n",
    "typedef unsigned long long ull;\n",
    "#define ms(s) memset(s, 0, sizeof(s))\n",
    "const int inf = 0x3f3f3f3f;\n",
    "#define LOCAL\n",
    "\n",
    "\n",
    "\n",
    "int main(int argc, char * argv[]) \n",
    "{\n",
    "    #ifdef LOCAL\n",
    "    freopen(\"/Users/huangjiaming/Documents/Algorithm/oj/data.in\", \"r\", stdin);\n",
    "    //freopen(\"/Users/huangjiaming/Documents/Algorithm/oj/data.out\", \"w\", stdout);\n",
    "    #endif\n",
    "\n",
    "    ${1:/* code */}\n",
    "\n",
    "    while (~scanf(\"%d\", ${2:/* var */}))\n",
    "    {\n",
    "    \n",
    "    }\n",
    "\n",
    "    return 0;\n",
    "}]]>\n",
    "    </content>\n",
    "    <!-- Optional: Set a tabTrigger to define how to trigger the snippet -->\n",
    "    <tabTrigger>acm</tabTrigger>\n",
    "    <!-- Optional: Set a scope to limit where the snippet will trigger -->\n",
    "    <scope>source.c++</scope>\n",
    "</snippet>"
   ]
  }
 ],
 "metadata": {
  "kernelspec": {
   "display_name": "Python 3",
   "language": "python",
   "name": "python3"
  },
  "language_info": {
   "codemirror_mode": {
    "name": "ipython",
    "version": 3
   },
   "file_extension": ".py",
   "mimetype": "text/x-python",
   "name": "python",
   "nbconvert_exporter": "python",
   "pygments_lexer": "ipython3",
   "version": "3.6.4"
  }
 },
 "nbformat": 4,
 "nbformat_minor": 2
}
