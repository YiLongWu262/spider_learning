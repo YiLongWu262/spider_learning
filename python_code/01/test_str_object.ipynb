{
 "cells": [
  {
   "cell_type": "markdown",
   "metadata": {},
   "source": [
    "## this chapter wo will learn some common function of str we usually use"
   ]
  },
  {
   "cell_type": "markdown",
   "metadata": {},
   "source": [
    "## textual data in python is handled with str object or string.String are immuable sequences of Unicode code points"
   ]
  },
  {
   "cell_type": "markdown",
   "metadata": {},
   "source": [
    "#### string can written in three ways\n",
    "single quotes:'allow embedded \"double\" quotes'\n",
    "double quotes:\"allow embedded 'single' quotes\"\n",
    "triple quotes:'''three single quotes''',\"\"\"three double quotes\"\"\""
   ]
  },
  {
   "cell_type": "markdown",
   "metadata": {},
   "source": [
    "#### （1）str.find()\n",
    "Return the lowest index in the string where substring sub is found within the slice s[start:end]. Optional arguments start and end are interpreted as in slice notation. Return -1 if sub is not found."
   ]
  },
  {
   "cell_type": "raw",
   "metadata": {},
   "source": [
    "print('py' in 'python')\n",
    "print('python'.find('py'))\n",
    "print('python'.find('Py'))#if sub is not found,return -1"
   ]
  },
  {
   "cell_type": "markdown",
   "metadata": {},
   "source": [
    "#### （2）str.index()"
   ]
  },
  {
   "cell_type": "code",
   "execution_count": null,
   "metadata": {},
   "outputs": [],
   "source": [
    "print('python'.index('Py'))#raise ValueError if substr is not found"
   ]
  },
  {
   "cell_type": "markdown",
   "metadata": {},
   "source": [
    "#### （3）str.isalnum()\n",
    "Return true if all characters in the string are alphanumeric"
   ]
  },
  {
   "cell_type": "code",
   "execution_count": 12,
   "metadata": {},
   "outputs": [
    {
     "name": "stdout",
     "output_type": "stream",
     "text": [
      "True\n",
      "True\n",
      "True\n",
      "False\n"
     ]
    }
   ],
   "source": [
    "print('python'.isalnum())\n",
    "print('python1'.isalnum())\n",
    "print('1234'.isalnum())\n",
    "print('python#'.isalnum())"
   ]
  },
  {
   "cell_type": "markdown",
   "metadata": {},
   "source": [
    "#### str.isalpha()\n",
    "return true if all characters in the string are alphabetic"
   ]
  },
  {
   "cell_type": "code",
   "execution_count": 14,
   "metadata": {},
   "outputs": [
    {
     "name": "stdout",
     "output_type": "stream",
     "text": [
      "True\n",
      "False\n"
     ]
    }
   ],
   "source": [
    "print('python'.isalpha())\n",
    "print('python1'.isalpha())"
   ]
  },
  {
   "cell_type": "markdown",
   "metadata": {},
   "source": [
    "#### （4）str.isdigit()\n",
    "Return true if all characters in the string are digits"
   ]
  },
  {
   "cell_type": "code",
   "execution_count": 17,
   "metadata": {},
   "outputs": [
    {
     "name": "stdout",
     "output_type": "stream",
     "text": [
      "True\n",
      "True\n",
      "False\n"
     ]
    }
   ],
   "source": [
    "print('34'.isdigit())\n",
    "print('010'.isdigit())\n",
    "print('a12'.isdigit())"
   ]
  },
  {
   "cell_type": "markdown",
   "metadata": {},
   "source": [
    "#### str.islower()\n",
    "Return true if all cased characters in the string are lowercase and there is at least one cased character, false otherwise."
   ]
  },
  {
   "cell_type": "code",
   "execution_count": 20,
   "metadata": {},
   "outputs": [
    {
     "name": "stdout",
     "output_type": "stream",
     "text": [
      "True\n",
      "False\n",
      "True\n"
     ]
    }
   ],
   "source": [
    "print('python'.islower())\n",
    "print('Python'.islower())\n",
    "print('pyhton1'.islower())"
   ]
  },
  {
   "cell_type": "markdown",
   "metadata": {},
   "source": [
    "#### （5）str.isupper()\n",
    "Return true if all cased characters [4] in the string are uppercase and there is at least one cased character, false otherwise."
   ]
  },
  {
   "cell_type": "code",
   "execution_count": 25,
   "metadata": {},
   "outputs": [
    {
     "name": "stdout",
     "output_type": "stream",
     "text": [
      "False\n",
      "True\n",
      "False\n"
     ]
    }
   ],
   "source": [
    "print('python'.isupper())\n",
    "print('PYTHON'.isupper())\n",
    "print('Python'.isupper())"
   ]
  },
  {
   "cell_type": "markdown",
   "metadata": {},
   "source": [
    "#### str.lstrip()\n",
    "Return a copy of the string with leading characters removed. The chars argument is a string specifying the set of characters to be removed. \n",
    "If omitted or None, the chars argument defaults to removing whitespace"
   ]
  },
  {
   "cell_type": "code",
   "execution_count": 29,
   "metadata": {},
   "outputs": [
    {
     "name": "stdout",
     "output_type": "stream",
     "text": [
      "python****\n",
      "python****\n"
     ]
    }
   ],
   "source": [
    "print('    python****'.lstrip())\n",
    "print('abcdepython****'.lstrip('abcde'))"
   ]
  },
  {
   "cell_type": "markdown",
   "metadata": {},
   "source": [
    "#### str.rstrip()\n",
    "Return a copy of the string with trailing characters removed. The chars argument is a string specifying the set of characters to be removed.\n",
    "If omitted or None, the chars argument defaults to removing whitespace"
   ]
  },
  {
   "cell_type": "code",
   "execution_count": 33,
   "metadata": {},
   "outputs": [
    {
     "name": "stdout",
     "output_type": "stream",
     "text": [
      "****python\n",
      "****python\n"
     ]
    }
   ],
   "source": [
    "print('****python    '.rstrip())\n",
    "print('****pythonabcde'.rstrip('abcde'))"
   ]
  },
  {
   "cell_type": "markdown",
   "metadata": {},
   "source": [
    "#### str.split()\n",
    "Return a list of the words in the string, using sep as the delimiter string"
   ]
  },
  {
   "cell_type": "code",
   "execution_count": 37,
   "metadata": {},
   "outputs": [
    {
     "name": "stdout",
     "output_type": "stream",
     "text": [
      "['p', 'y', 'h', 't', 'on']\n",
      "['p', 'y', 'h', 't', 'o', 'n']\n"
     ]
    }
   ],
   "source": [
    "print('p,y,h,t,on'.split(sep = ','))\n",
    "print('p,y,h,t,o,n'.split(sep = ','))"
   ]
  },
  {
   "cell_type": "markdown",
   "metadata": {},
   "source": [
    "#### str.startswith(prefix[, start[, end]])\n",
    "Return True if string starts with the prefix, otherwise return False"
   ]
  },
  {
   "cell_type": "code",
   "execution_count": 39,
   "metadata": {},
   "outputs": [
    {
     "name": "stdout",
     "output_type": "stream",
     "text": [
      "True\n",
      "True\n"
     ]
    }
   ],
   "source": [
    "print('python'.startswith('py'))\n",
    "print('python'.startswith('pyt'[0:1]))"
   ]
  },
  {
   "cell_type": "markdown",
   "metadata": {},
   "source": [
    "#### str.strip()\n",
    "Return a copy of the string with the leading and trailing characters removed. The chars argument is a string specifying the set of characters to be removed.\n",
    "If omitted or None, the chars argument defaults to removing whitespace"
   ]
  },
  {
   "cell_type": "code",
   "execution_count": 41,
   "metadata": {},
   "outputs": [
    {
     "name": "stdout",
     "output_type": "stream",
     "text": [
      "python\n",
      "python\n"
     ]
    }
   ],
   "source": [
    "print('    python    '.strip())\n",
    "print('****python****'.strip('*'))"
   ]
  },
  {
   "cell_type": "markdown",
   "metadata": {},
   "source": [
    "#### str.lower()"
   ]
  },
  {
   "cell_type": "code",
   "execution_count": 42,
   "metadata": {},
   "outputs": [
    {
     "name": "stdout",
     "output_type": "stream",
     "text": [
      "python\n"
     ]
    }
   ],
   "source": [
    "print('PYTHON'.lower())"
   ]
  },
  {
   "cell_type": "markdown",
   "metadata": {},
   "source": [
    "#### str.upper()"
   ]
  },
  {
   "cell_type": "code",
   "execution_count": 44,
   "metadata": {},
   "outputs": [
    {
     "name": "stdout",
     "output_type": "stream",
     "text": [
      "PYTHON\n"
     ]
    }
   ],
   "source": [
    "print('python'.upper())"
   ]
  }
 ],
 "metadata": {
  "kernelspec": {
   "display_name": "Python 3",
   "language": "python",
   "name": "python3"
  },
  "language_info": {
   "codemirror_mode": {
    "name": "ipython",
    "version": 3
   },
   "file_extension": ".py",
   "mimetype": "text/x-python",
   "name": "python",
   "nbconvert_exporter": "python",
   "pygments_lexer": "ipython3",
   "version": "3.6.4"
  }
 },
 "nbformat": 4,
 "nbformat_minor": 2
}
