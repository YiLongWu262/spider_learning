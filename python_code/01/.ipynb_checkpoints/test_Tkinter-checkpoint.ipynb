{
 "cells": [
  {
   "cell_type": "markdown",
   "metadata": {},
   "source": [
    "tkinter是Tk界面工具包的标准python接口。  \n",
    "在大多数的Unix平台上，Tk和tkinter都是可以使用的。  \n",
    "我们可以使用以下的命令确定是否在我们的系统上安装了tkinter。python -m thinter  \n",
    "**下面给出一些参考资料:**\n",
    "1. [官方参考文档](https://docs.python.org/3.6/library/tkinter.html?highlight=tkinter#module-tkinter)\n",
    "2. [Tcl/Tk 8.6 man pages](https://www.tcl.tk/man/tcl8.6/)\n",
    "3. [Practical Programming in Tcl and Tk](http://www.beedub.com/book/)"
   ]
  },
  {
   "cell_type": "code",
   "execution_count": null,
   "metadata": {},
   "outputs": [],
   "source": [
    "import tkinter as tk\n",
    "\n",
    "class Application(tk.Frame):\n",
    "    '''learn how to create a gui'''\n",
    "    def __init__(self, master = None):\n",
    "        super().__init__(master)\n",
    "        self.pack()\n",
    "        self.create_widgets()\n",
    "        \n",
    "    def create_widgets(self):\n",
    "        self.hi_there = tk.Button(self)\n",
    "        self.hi_there[\"text\"] = \"Helllo World!(click me)\"\n",
    "        self.hi_there[\"command\"] = self.say_hii\n",
    "        self.hi_there.pack(side = \"top\")\n",
    "        \n",
    "        self.quit = tk.Button(self, text = \"QUIT\", fg = \"red\", command = root.destroy)\n",
    "        self.quit.pack(side = \"bottom\")\n",
    "        \n",
    "    def say_hii(self):\n",
    "        print(\"hill there\")\n",
    "root = tk.Tk()\n",
    "myApp = Application(master = root)\n",
    "myApp.mainloop()\n",
    "        \n",
    "        "
   ]
  }
 ],
 "metadata": {
  "kernelspec": {
   "display_name": "Python 3",
   "language": "python",
   "name": "python3"
  },
  "language_info": {
   "codemirror_mode": {
    "name": "ipython",
    "version": 3
   },
   "file_extension": ".py",
   "mimetype": "text/x-python",
   "name": "python",
   "nbconvert_exporter": "python",
   "pygments_lexer": "ipython3",
   "version": "3.6.4"
  }
 },
 "nbformat": 4,
 "nbformat_minor": 2
}
