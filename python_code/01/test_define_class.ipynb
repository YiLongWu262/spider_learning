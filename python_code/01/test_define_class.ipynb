{
 "cells": [
  {
   "cell_type": "code",
   "execution_count": 7,
   "metadata": {},
   "outputs": [
    {
     "data": {
      "text/plain": [
       "1.4142135623730951"
      ]
     },
     "execution_count": 7,
     "metadata": {},
     "output_type": "execute_result"
    }
   ],
   "source": [
    "#learn how to define my class\n",
    "import math\n",
    "class Point(object):\n",
    "    '''learn how to define my class'''\n",
    "    def __init__(self, x = 0, y = 0):\n",
    "        self.move(x, y)\n",
    "    \n",
    "    #return value of y\n",
    "    def getX(self):\n",
    "        return self.x\n",
    "    \n",
    "    #return value of x\n",
    "    def getY(self):\n",
    "        return self.y\n",
    "    \n",
    "    #move current point to new point\n",
    "    def move(self, x, y):\n",
    "        self.x = x\n",
    "        self.y = y\n",
    "    \n",
    "    #calculate distance between two points\n",
    "    def calculate(self, other):\n",
    "        return math.sqrt(math.pow(self.x - other.getX(),2) + math.pow(self.y - other.getY(),2))\n",
    "\n",
    "a = Point()\n",
    "b = Point(1,1)\n",
    "a.calculate(b)"
   ]
  }
 ],
 "metadata": {
  "kernelspec": {
   "display_name": "Python 3",
   "language": "python",
   "name": "python3"
  },
  "language_info": {
   "codemirror_mode": {
    "name": "ipython",
    "version": 3
   },
   "file_extension": ".py",
   "mimetype": "text/x-python",
   "name": "python",
   "nbconvert_exporter": "python",
   "pygments_lexer": "ipython3",
   "version": "3.6.4"
  }
 },
 "nbformat": 4,
 "nbformat_minor": 2
}
