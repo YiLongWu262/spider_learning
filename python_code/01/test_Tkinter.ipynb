{
 "cells": [
  {
   "cell_type": "markdown",
   "metadata": {},
   "source": [
    "tkinter是Tk界面工具包的标准python接口。  \n",
    "在大多数的Unix平台上，Tk和tkinter都是可以使用的。  \n",
    "我们可以使用以下的命令确定是否在我们的系统上安装了tkinter。python -m thinter  \n",
    "**下面给出一些参考资料:**\n",
    "1. [官方参考文档](https://docs.python.org/3.6/library/tkinter.html?highlight=tkinter#module-tkinter)\n",
    "2. [Tcl/Tk 8.6 man pages](https://www.tcl.tk/man/tcl8.6/)\n",
    "3. [Practical Programming in Tcl and Tk](http://www.beedub.com/book/)"
   ]
  },
  {
   "cell_type": "markdown",
   "metadata": {},
   "source": [
    "### The simple hello world"
   ]
  },
  {
   "cell_type": "code",
   "execution_count": 8,
   "metadata": {},
   "outputs": [
    {
     "name": "stdout",
     "output_type": "stream",
     "text": [
      "hill there\n",
      "{'activebackground': ('activebackground', 'activeBackground', 'Foreground', <border object: 'SystemButtonFace'>, 'SystemButtonFace'), 'activeforeground': ('activeforeground', 'activeForeground', 'Background', <color object: 'SystemButtonText'>, 'SystemButtonText'), 'anchor': ('anchor', 'anchor', 'Anchor', <index object: 'center'>, 'center'), 'background': ('background', 'background', 'Background', <border object: 'SystemButtonFace'>, 'SystemButtonFace'), 'bd': ('bd', '-borderwidth'), 'bg': ('bg', '-background'), 'bitmap': ('bitmap', 'bitmap', 'Bitmap', '', ''), 'borderwidth': ('borderwidth', 'borderWidth', 'BorderWidth', <pixel object: '2'>, <pixel object: '2'>), 'command': ('command', 'command', 'Command', '', <bytecode object: '152969032say_hii'>), 'compound': ('compound', 'compound', 'Compound', <index object: 'none'>, 'none'), 'cursor': ('cursor', 'cursor', 'Cursor', '', ''), 'default': ('default', 'default', 'Default', <index object: 'disabled'>, 'disabled'), 'disabledforeground': ('disabledforeground', 'disabledForeground', 'DisabledForeground', <color object: 'SystemDisabledText'>, 'SystemDisabledText'), 'fg': ('fg', '-foreground'), 'font': ('font', 'font', 'Font', <font object: 'TkDefaultFont'>, 'TkDefaultFont'), 'foreground': ('foreground', 'foreground', 'Foreground', <color object: 'SystemButtonText'>, 'SystemButtonText'), 'height': ('height', 'height', 'Height', 0, 0), 'highlightbackground': ('highlightbackground', 'highlightBackground', 'HighlightBackground', <border object: 'SystemButtonFace'>, 'SystemButtonFace'), 'highlightcolor': ('highlightcolor', 'highlightColor', 'HighlightColor', <color object: 'SystemWindowFrame'>, 'SystemWindowFrame'), 'highlightthickness': ('highlightthickness', 'highlightThickness', 'HighlightThickness', <pixel object: '1'>, <pixel object: '1'>), 'image': ('image', 'image', 'Image', '', ''), 'justify': ('justify', 'justify', 'Justify', <index object: 'center'>, 'center'), 'overrelief': ('overrelief', 'overRelief', 'OverRelief', '', ''), 'padx': ('padx', 'padX', 'Pad', <pixel object: '1'>, <pixel object: '1'>), 'pady': ('pady', 'padY', 'Pad', <pixel object: '1'>, <pixel object: '1'>), 'relief': ('relief', 'relief', 'Relief', <index object: 'raised'>, 'raised'), 'repeatdelay': ('repeatdelay', 'repeatDelay', 'RepeatDelay', 0, 0), 'repeatinterval': ('repeatinterval', 'repeatInterval', 'RepeatInterval', 0, 0), 'state': ('state', 'state', 'State', <index object: 'normal'>, 'normal'), 'takefocus': ('takefocus', 'takeFocus', 'TakeFocus', '', ''), 'text': ('text', 'text', 'Text', '', 'Helllo World!(click me)'), 'textvariable': ('textvariable', 'textVariable', 'Variable', '', ''), 'underline': ('underline', 'underline', 'Underline', -1, -1), 'width': ('width', 'width', 'Width', 0, 0), 'wraplength': ('wraplength', 'wrapLength', 'WrapLength', <pixel object: '0'>, <pixel object: '0'>)}\n"
     ]
    }
   ],
   "source": [
    "import tkinter as tk\n",
    "\n",
    "class Application(tk.Frame):\n",
    "    '''learn how to create a gui'''\n",
    "    def __init__(self, master = None):\n",
    "        super().__init__(master)\n",
    "        self.pack()\n",
    "        self.create_widgets()\n",
    "        \n",
    "    def create_widgets(self):\n",
    "        self.hi_there = tk.Button(self)\n",
    "        self.hi_there[\"text\"] = \"Helllo World!(click me)\"\n",
    "        self.hi_there[\"command\"] = self.say_hii\n",
    "        self.hi_there.pack(side = \"top\")\n",
    "        \n",
    "        self.quit = tk.Button(self, text = \"QUIT\", fg = \"red\", command = root.destroy)\n",
    "        self.quit.pack(side = \"bottom\")\n",
    "        \n",
    "    def say_hii(self):\n",
    "        print(\"hill there\")\n",
    "        print(self.hi_there.config())\n",
    "        \n",
    "root = tk.Tk()\n",
    "myApp = Application(master = root)\n",
    "myApp.mainloop()\n",
    "        \n",
    "        "
   ]
  },
  {
   "cell_type": "markdown",
   "metadata": {},
   "source": [
    "### Coupling Widget Variables"
   ]
  },
  {
   "cell_type": "code",
   "execution_count": 15,
   "metadata": {},
   "outputs": [],
   "source": [
    "import tkinter as tk\n",
    "\n",
    "class App(tk.Frame):\n",
    "    \n",
    "    def __init__(self, master = None):\n",
    "        super().__init__(master)\n",
    "        self.pack()\n",
    "        \n",
    "        # entry widget\n",
    "        self.entrythingy = tk.Entry()\n",
    "        self.entrythingy.pack()\n",
    "        \n",
    "        self.content = tk.StringVar()\n",
    "        self.content.set(\"this is variable\")\n",
    "        \n",
    "        #tell entry widget to watch varlable content\n",
    "        self.entrythingy[\"textvariable\"] = self.content\n",
    "        \n",
    "        #get a callback when the user hits return\n",
    "        self.entrythingy.bind('<Key-Return>', self.print_contents)\n",
    "        \n",
    "    def print_contents(self):\n",
    "        print(self.content.get())\n",
    "        \n",
    "        \n",
    "root = tk.Tk()\n",
    "myApp = App(root)\n",
    "myApp.mainloop()\n",
    "        "
   ]
  },
  {
   "cell_type": "code",
   "execution_count": null,
   "metadata": {},
   "outputs": [],
   "source": []
  }
 ],
 "metadata": {
  "kernelspec": {
   "display_name": "Python 3",
   "language": "python",
   "name": "python3"
  },
  "language_info": {
   "codemirror_mode": {
    "name": "ipython",
    "version": 3
   },
   "file_extension": ".py",
   "mimetype": "text/x-python",
   "name": "python",
   "nbconvert_exporter": "python",
   "pygments_lexer": "ipython3",
   "version": "3.6.4"
  }
 },
 "nbformat": 4,
 "nbformat_minor": 2
}
