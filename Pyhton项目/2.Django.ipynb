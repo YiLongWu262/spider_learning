{
 "cells": [
  {
   "cell_type": "code",
   "execution_count": null,
   "metadata": {},
   "outputs": [],
   "source": [
    "mysite/\n",
    "    manage.py\n",
    "    mysite/\n",
    "        __init__.py\n",
    "        settings.py\n",
    "        urls.py\n",
    "        wsgi.py"
   ]
  },
  {
   "cell_type": "markdown",
   "metadata": {},
   "source": [
    "manage.py  \n",
    "A command-line utility that lets you interact with this Django project in various ways \n",
    "\n",
    "The inner mysite/ directory is the actual Python package for your project.   \n",
    "Its name is the Python package name you’ll need to use to import anything inside it (e.g. mysite.urls)  \n",
    "\n",
    "mysite/__init__.py: An empty file that tells Python that this directory should be considered a Python package  \n",
    "\n",
    "mysite/settings.py: Settings/configuration for this Django project. Django settings will tell you all about how settings work.  \n",
    "\n",
    "mysite/urls.py: The URL declarations for this Django project; a “table of contents” of your Django-powered site  \n",
    "\n",
    "mysite/wsgi.py: An entry-point for WSGI-compatible web servers to serve your project  \n"
   ]
  },
  {
   "cell_type": "code",
   "execution_count": null,
   "metadata": {},
   "outputs": [],
   "source": []
  }
 ],
 "metadata": {
  "kernelspec": {
   "display_name": "Python 3",
   "language": "python",
   "name": "python3"
  },
  "language_info": {
   "codemirror_mode": {
    "name": "ipython",
    "version": 3
   },
   "file_extension": ".py",
   "mimetype": "text/x-python",
   "name": "python",
   "nbconvert_exporter": "python",
   "pygments_lexer": "ipython3",
   "version": "3.6.4"
  }
 },
 "nbformat": 4,
 "nbformat_minor": 2
}
